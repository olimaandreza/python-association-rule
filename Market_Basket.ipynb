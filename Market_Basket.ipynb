{
  "cells": [
    {
      "cell_type": "markdown",
      "metadata": {},
      "source": [
        "# Objetivo\n",
        "\n",
        "O presente notebook faz parte da grade curricular da tuma 02/2022 do curso de Data Science & Machine Learning da Tera e tem como objetivo aplicar os conhecimentos adquiridos ao longo do curso.\n",
        "\n"
      ]
    },
    {
      "cell_type": "markdown",
      "metadata": {},
      "source": [
        "# Problema de negócio (fictício)\n",
        "\n",
        "O grupo fictício TERASHOP possui um e-commerce de um supermercado. Os gestores identificaram que as vendas do e-commerce não estavam performando conforme o esperado e demandaram à equipe de pesquisa que identificassem os principais ofensores.\n",
        "\n",
        "Em seus estudos, foi identificado que os pedidos possuíam um volume de produtos abaixo do esperado em comparação com as previsões de crescimento do negócio, o que impacta diretamente o valor total de cada carrinho de compras bem como a receita total do e-commerce.\n",
        "\n",
        "Iniciou-se então uma investigação para tentar mapear as necessidades do negócio a partir da constatação de que o volume de produtos nos pedidos estava abaixo do esperado.\n",
        "\n",
        "Uma das oportunidades de melhoria identificadas neste processo de investigação foi a implementação de um mecanismo que pudesse fazer com que os consumidores conhecessem melhor a variedade de produtos oferecidos pelo e-commerce ao mesmo tempo em que proporcionasse uma experiência positiva ao navegar pelo site e tivesse a prerrogativa de influenciar o perfil de compras do usuário."
      ]
    },
    {
      "cell_type": "markdown",
      "metadata": {},
      "source": [
        "## Solução\n",
        "\n",
        "Aplicação de Regras de Associação para o banco de dados [InstaCart](https://www.kaggle.com/competitions/instacart-market-basket-analysis/data?select=order_products__train.csv.zip).\n",
        "\n",
        "As regras de Associação têm como objetivo encontrar elementos que implicam na presença de outros elementos em uma mesma transação, ou seja, encontrar relacionamentos ou padrões frequentes entre conjuntos de dados. Como exemplo, {𝑙𝑒𝑖𝑡𝑒,𝑝ã𝑜}→{𝑜𝑣𝑜𝑠} é uma associação que diz que quando se encontra os itens 𝑙𝑒𝑖𝑡𝑒 e 𝑝ã𝑜 em uma ocorrência, é esperado que o 𝑜𝑣𝑜𝑠 também apareçam na transação."
      ]
    },
    {
      "cell_type": "markdown",
      "metadata": {},
      "source": [
        "## Descrição da Base de Dados\n",
        "\n",
        "O conjunto de dados, distribuídos em 6 arquivos .csv, contém uma amostra de mais de 3 milhões de pedidos de supermercado, com histórico de aproximadamente 200.000 usuários do Instacart, empresa americana que opera um serviço de entrega e coleta de alimentos nos Estados Unidos e no Canadá. A empresa oferece seus serviços por meio de um site e também por aplicativo móvel.\n",
        "\n",
        "A fonte de dados conta com os seguintes arquivos:\n",
        "\n",
        "products.csv: contém os nomes dos produtos com seu product_id correspondente. Além disso, o corredor e o departamento estão inclusos no conjunto de dados.\n",
        "\n",
        "orders.csv: fornece uma lista de todos os ids de pedidos no conjunto de dados, ou seja, uma linha para cada pedido, com a identificação de qual arquivo ele pertence (train ou prior).\n",
        "\n",
        "departaments.csv: traz informações sobre a identificação dos diferentes departamentos.\n",
        "\n",
        "order_products_*.csv: fornecem informações sobre quais produtos (product_id) foram comprados em cada order_id.\n",
        "\n"
      ]
    },
    {
      "cell_type": "markdown",
      "metadata": {},
      "source": [
        "# Importando Bibliotecas"
      ]
    },
    {
      "cell_type": "code",
      "execution_count": 1,
      "metadata": {
        "id": "sbXqLeU2a6bw"
      },
      "outputs": [],
      "source": [
        "import pandas as pd\n",
        "import numpy as np\n",
        "from mlxtend.frequent_patterns import association_rules\n",
        "from mlxtend.frequent_patterns import apriori"
      ]
    },
    {
      "cell_type": "markdown",
      "metadata": {},
      "source": [
        "# Leitura das Bases de Dados"
      ]
    },
    {
      "cell_type": "code",
      "execution_count": 2,
      "metadata": {
        "id": "-_hTgfBVd3t5"
      },
      "outputs": [],
      "source": [
        "# Base com as transações\n",
        "df=pd.read_csv(r\"C:\\Users\\olima\\Documents\\Python\\association-rules\\order_products__train.csv\")\n",
        "\n",
        "# Base com os nomes dos produtos\n",
        "prod=pd.read_csv(r\"C:\\Users\\olima\\Documents\\Python\\association-rules\\products.csv\")\n",
        "\n",
        "# Base com informações dos pedidos\n",
        "orders=pd.read_csv(r\"C:\\Users\\olima\\Documents\\Python\\association-rules\\orders.csv\")\n"
      ]
    },
    {
      "cell_type": "markdown",
      "metadata": {},
      "source": [
        "# Exploração das Bases de Dados"
      ]
    },
    {
      "cell_type": "code",
      "execution_count": 3,
      "metadata": {
        "colab": {
          "base_uri": "https://localhost:8080/",
          "height": 426
        },
        "id": "-kMiN4t6gIkX",
        "outputId": "c4408011-fb42-4e31-84a6-71b72885cb7e"
      },
      "outputs": [
        {
          "data": {
            "text/html": [
              "<div>\n",
              "<style scoped>\n",
              "    .dataframe tbody tr th:only-of-type {\n",
              "        vertical-align: middle;\n",
              "    }\n",
              "\n",
              "    .dataframe tbody tr th {\n",
              "        vertical-align: top;\n",
              "    }\n",
              "\n",
              "    .dataframe thead th {\n",
              "        text-align: right;\n",
              "    }\n",
              "</style>\n",
              "<table border=\"1\" class=\"dataframe\">\n",
              "  <thead>\n",
              "    <tr style=\"text-align: right;\">\n",
              "      <th></th>\n",
              "      <th>order_id</th>\n",
              "      <th>product_id</th>\n",
              "      <th>add_to_cart_order</th>\n",
              "      <th>reordered</th>\n",
              "    </tr>\n",
              "  </thead>\n",
              "  <tbody>\n",
              "    <tr>\n",
              "      <th>0</th>\n",
              "      <td>1</td>\n",
              "      <td>49302</td>\n",
              "      <td>1</td>\n",
              "      <td>1</td>\n",
              "    </tr>\n",
              "    <tr>\n",
              "      <th>1</th>\n",
              "      <td>1</td>\n",
              "      <td>11109</td>\n",
              "      <td>2</td>\n",
              "      <td>1</td>\n",
              "    </tr>\n",
              "    <tr>\n",
              "      <th>2</th>\n",
              "      <td>1</td>\n",
              "      <td>10246</td>\n",
              "      <td>3</td>\n",
              "      <td>0</td>\n",
              "    </tr>\n",
              "    <tr>\n",
              "      <th>3</th>\n",
              "      <td>1</td>\n",
              "      <td>49683</td>\n",
              "      <td>4</td>\n",
              "      <td>0</td>\n",
              "    </tr>\n",
              "    <tr>\n",
              "      <th>4</th>\n",
              "      <td>1</td>\n",
              "      <td>43633</td>\n",
              "      <td>5</td>\n",
              "      <td>1</td>\n",
              "    </tr>\n",
              "  </tbody>\n",
              "</table>\n",
              "</div>"
            ],
            "text/plain": [
              "   order_id  product_id  add_to_cart_order  reordered\n",
              "0         1       49302                  1          1\n",
              "1         1       11109                  2          1\n",
              "2         1       10246                  3          0\n",
              "3         1       49683                  4          0\n",
              "4         1       43633                  5          1"
            ]
          },
          "execution_count": 3,
          "metadata": {},
          "output_type": "execute_result"
        }
      ],
      "source": [
        "df.head()"
      ]
    },
    {
      "cell_type": "code",
      "execution_count": 4,
      "metadata": {
        "colab": {
          "base_uri": "https://localhost:8080/"
        },
        "id": "z_lWYpgigkPd",
        "outputId": "8e19c7e7-e2c4-43d9-ce73-bd4cbdefe336"
      },
      "outputs": [
        {
          "name": "stdout",
          "output_type": "stream",
          "text": [
            "<class 'pandas.core.frame.DataFrame'>\n",
            "RangeIndex: 1384617 entries, 0 to 1384616\n",
            "Data columns (total 4 columns):\n",
            " #   Column             Non-Null Count    Dtype\n",
            "---  ------             --------------    -----\n",
            " 0   order_id           1384617 non-null  int64\n",
            " 1   product_id         1384617 non-null  int64\n",
            " 2   add_to_cart_order  1384617 non-null  int64\n",
            " 3   reordered          1384617 non-null  int64\n",
            "dtypes: int64(4)\n",
            "memory usage: 42.3 MB\n"
          ]
        }
      ],
      "source": [
        "df.info()\n"
      ]
    },
    {
      "cell_type": "markdown",
      "metadata": {},
      "source": [
        "## Verificando missings"
      ]
    },
    {
      "cell_type": "code",
      "execution_count": 5,
      "metadata": {
        "colab": {
          "base_uri": "https://localhost:8080/"
        },
        "id": "zO3uXAfIsJtC",
        "outputId": "f341733b-74be-4a45-825e-df6b7f5a8d91"
      },
      "outputs": [
        {
          "data": {
            "text/plain": [
              "0"
            ]
          },
          "execution_count": 5,
          "metadata": {},
          "output_type": "execute_result"
        }
      ],
      "source": [
        "df.order_id.isna().sum()"
      ]
    },
    {
      "cell_type": "code",
      "execution_count": 6,
      "metadata": {
        "colab": {
          "base_uri": "https://localhost:8080/"
        },
        "id": "N8ZIflC5sUqT",
        "outputId": "c83bf44b-61cc-46ab-b814-bf8870cedb5e"
      },
      "outputs": [
        {
          "data": {
            "text/plain": [
              "0"
            ]
          },
          "execution_count": 6,
          "metadata": {},
          "output_type": "execute_result"
        }
      ],
      "source": [
        "df.product_id.isna().sum()"
      ]
    },
    {
      "cell_type": "markdown",
      "metadata": {},
      "source": [
        "## Verificando a quantidade de Ids únicos"
      ]
    },
    {
      "cell_type": "code",
      "execution_count": 7,
      "metadata": {},
      "outputs": [
        {
          "data": {
            "text/plain": [
              "131209"
            ]
          },
          "execution_count": 7,
          "metadata": {},
          "output_type": "execute_result"
        }
      ],
      "source": [
        "df.order_id.nunique()"
      ]
    },
    {
      "cell_type": "code",
      "execution_count": 8,
      "metadata": {
        "colab": {
          "base_uri": "https://localhost:8080/"
        },
        "id": "AgciiYGOwdwo",
        "outputId": "f6fad9a4-d3d4-442a-c021-82c0f6afed84"
      },
      "outputs": [
        {
          "data": {
            "text/plain": [
              "39123"
            ]
          },
          "execution_count": 8,
          "metadata": {},
          "output_type": "execute_result"
        }
      ],
      "source": [
        "df.product_id.nunique()"
      ]
    },
    {
      "cell_type": "code",
      "execution_count": 9,
      "metadata": {},
      "outputs": [
        {
          "data": {
            "text/plain": [
              "1395075    80\n",
              "2813632    80\n",
              "949182     77\n",
              "2869702    76\n",
              "341238     76\n",
              "           ..\n",
              "1144944     1\n",
              "1144765     1\n",
              "1144608     1\n",
              "1144038     1\n",
              "3214874     1\n",
              "Name: order_id, Length: 131209, dtype: int64"
            ]
          },
          "execution_count": 9,
          "metadata": {},
          "output_type": "execute_result"
        }
      ],
      "source": [
        "df.order_id.value_counts()"
      ]
    },
    {
      "cell_type": "code",
      "execution_count": 10,
      "metadata": {
        "colab": {
          "base_uri": "https://localhost:8080/"
        },
        "id": "a_ZsEd1xwyhK",
        "outputId": "78d6cfc4-3436-48ab-d2eb-041128ee848e"
      },
      "outputs": [
        {
          "data": {
            "text/plain": [
              "24852    18726\n",
              "13176    15480\n",
              "21137    10894\n",
              "21903     9784\n",
              "47626     8135\n",
              "         ...  \n",
              "42744        1\n",
              "5871         1\n",
              "47237        1\n",
              "9305         1\n",
              "38900        1\n",
              "Name: product_id, Length: 39123, dtype: int64"
            ]
          },
          "execution_count": 10,
          "metadata": {},
          "output_type": "execute_result"
        }
      ],
      "source": [
        "df.product_id.value_counts()"
      ]
    },
    {
      "cell_type": "markdown",
      "metadata": {},
      "source": [
        "# Transformação das Bases de Dados"
      ]
    },
    {
      "cell_type": "markdown",
      "metadata": {},
      "source": [
        "Em um primeiro momento, foram excluídos todos os pedidos que tinham apenas um produto, tendo em vista que não esses pedidos não contribuem para o modelo, já que não é possível inferir que clientes que levam um produto determinado, também levam um outro produto.\n",
        "\n",
        "Após, foram filtrados produtos que apareceram na base dados menos de 200 vezes, para priorizar os produtos que já apresentam um bom volume de vendas. Esse valor foi determinado de forma arbitrária, de forma a possibilitar que o algoritmo fosse executado, por questões de limitação de memória.\n",
        "\n",
        "Neste caso, vale a pena explorar adaptações que otimizam a execução do algoritmo a priori por meio de amostragem de itens, partição dos dados, hash-based, etc.\n"
      ]
    },
    {
      "cell_type": "markdown",
      "metadata": {},
      "source": [
        "## Filtros"
      ]
    },
    {
      "cell_type": "code",
      "execution_count": 11,
      "metadata": {},
      "outputs": [
        {
          "name": "stdout",
          "output_type": "stream",
          "text": [
            "<class 'pandas.core.frame.DataFrame'>\n",
            "Int64Index: 756896 entries, 2 to 1384616\n",
            "Data columns (total 4 columns):\n",
            " #   Column             Non-Null Count   Dtype\n",
            "---  ------             --------------   -----\n",
            " 0   order_id           756896 non-null  int64\n",
            " 1   product_id         756896 non-null  int64\n",
            " 2   add_to_cart_order  756896 non-null  int64\n",
            " 3   reordered          756896 non-null  int64\n",
            "dtypes: int64(4)\n",
            "memory usage: 28.9 MB\n"
          ]
        }
      ],
      "source": [
        "filtro_orderId=list(df.order_id.value_counts()[df.order_id.value_counts()>1].index)\n",
        "filtro_produtos=list(df.product_id.value_counts()[df.product_id.value_counts()>200].index)\n",
        "\n",
        "df=df[df['order_id'].isin(filtro_orderId)]\n",
        "df=df[df['product_id'].isin(filtro_produtos)]\n",
        "df.info()"
      ]
    },
    {
      "cell_type": "code",
      "execution_count": 12,
      "metadata": {},
      "outputs": [
        {
          "data": {
            "text/plain": [
              "117745"
            ]
          },
          "execution_count": 12,
          "metadata": {},
          "output_type": "execute_result"
        }
      ],
      "source": [
        "df.order_id.nunique() # Quantidade de pedidos restantes"
      ]
    },
    {
      "cell_type": "code",
      "execution_count": 13,
      "metadata": {},
      "outputs": [
        {
          "data": {
            "text/plain": [
              "1148"
            ]
          },
          "execution_count": 13,
          "metadata": {},
          "output_type": "execute_result"
        }
      ],
      "source": [
        "df.product_id.nunique() # quantidade de produtos restantes\n"
      ]
    },
    {
      "cell_type": "markdown",
      "metadata": {},
      "source": [
        "## Join com a base de nome dos produtos"
      ]
    },
    {
      "cell_type": "code",
      "execution_count": 14,
      "metadata": {},
      "outputs": [
        {
          "data": {
            "text/html": [
              "<div>\n",
              "<style scoped>\n",
              "    .dataframe tbody tr th:only-of-type {\n",
              "        vertical-align: middle;\n",
              "    }\n",
              "\n",
              "    .dataframe tbody tr th {\n",
              "        vertical-align: top;\n",
              "    }\n",
              "\n",
              "    .dataframe thead th {\n",
              "        text-align: right;\n",
              "    }\n",
              "</style>\n",
              "<table border=\"1\" class=\"dataframe\">\n",
              "  <thead>\n",
              "    <tr style=\"text-align: right;\">\n",
              "      <th></th>\n",
              "      <th>product_id</th>\n",
              "      <th>product_name</th>\n",
              "      <th>aisle_id</th>\n",
              "      <th>department_id</th>\n",
              "    </tr>\n",
              "  </thead>\n",
              "  <tbody>\n",
              "    <tr>\n",
              "      <th>0</th>\n",
              "      <td>1</td>\n",
              "      <td>Chocolate Sandwich Cookies</td>\n",
              "      <td>61</td>\n",
              "      <td>19</td>\n",
              "    </tr>\n",
              "    <tr>\n",
              "      <th>1</th>\n",
              "      <td>2</td>\n",
              "      <td>All-Seasons Salt</td>\n",
              "      <td>104</td>\n",
              "      <td>13</td>\n",
              "    </tr>\n",
              "    <tr>\n",
              "      <th>2</th>\n",
              "      <td>3</td>\n",
              "      <td>Robust Golden Unsweetened Oolong Tea</td>\n",
              "      <td>94</td>\n",
              "      <td>7</td>\n",
              "    </tr>\n",
              "    <tr>\n",
              "      <th>3</th>\n",
              "      <td>4</td>\n",
              "      <td>Smart Ones Classic Favorites Mini Rigatoni Wit...</td>\n",
              "      <td>38</td>\n",
              "      <td>1</td>\n",
              "    </tr>\n",
              "    <tr>\n",
              "      <th>4</th>\n",
              "      <td>5</td>\n",
              "      <td>Green Chile Anytime Sauce</td>\n",
              "      <td>5</td>\n",
              "      <td>13</td>\n",
              "    </tr>\n",
              "  </tbody>\n",
              "</table>\n",
              "</div>"
            ],
            "text/plain": [
              "   product_id                                       product_name  aisle_id  \\\n",
              "0           1                         Chocolate Sandwich Cookies        61   \n",
              "1           2                                   All-Seasons Salt       104   \n",
              "2           3               Robust Golden Unsweetened Oolong Tea        94   \n",
              "3           4  Smart Ones Classic Favorites Mini Rigatoni Wit...        38   \n",
              "4           5                          Green Chile Anytime Sauce         5   \n",
              "\n",
              "   department_id  \n",
              "0             19  \n",
              "1             13  \n",
              "2              7  \n",
              "3              1  \n",
              "4             13  "
            ]
          },
          "execution_count": 14,
          "metadata": {},
          "output_type": "execute_result"
        }
      ],
      "source": [
        "prod.head()"
      ]
    },
    {
      "cell_type": "code",
      "execution_count": 15,
      "metadata": {},
      "outputs": [
        {
          "data": {
            "text/html": [
              "<div>\n",
              "<style scoped>\n",
              "    .dataframe tbody tr th:only-of-type {\n",
              "        vertical-align: middle;\n",
              "    }\n",
              "\n",
              "    .dataframe tbody tr th {\n",
              "        vertical-align: top;\n",
              "    }\n",
              "\n",
              "    .dataframe thead th {\n",
              "        text-align: right;\n",
              "    }\n",
              "</style>\n",
              "<table border=\"1\" class=\"dataframe\">\n",
              "  <thead>\n",
              "    <tr style=\"text-align: right;\">\n",
              "      <th></th>\n",
              "      <th>order_id</th>\n",
              "      <th>product_id</th>\n",
              "      <th>add_to_cart_order</th>\n",
              "      <th>reordered</th>\n",
              "      <th>product_name</th>\n",
              "      <th>aisle_id</th>\n",
              "      <th>department_id</th>\n",
              "    </tr>\n",
              "  </thead>\n",
              "  <tbody>\n",
              "    <tr>\n",
              "      <th>0</th>\n",
              "      <td>1</td>\n",
              "      <td>10246</td>\n",
              "      <td>3</td>\n",
              "      <td>0</td>\n",
              "      <td>Organic Celery Hearts</td>\n",
              "      <td>83</td>\n",
              "      <td>4</td>\n",
              "    </tr>\n",
              "    <tr>\n",
              "      <th>1</th>\n",
              "      <td>2869</td>\n",
              "      <td>10246</td>\n",
              "      <td>4</td>\n",
              "      <td>1</td>\n",
              "      <td>Organic Celery Hearts</td>\n",
              "      <td>83</td>\n",
              "      <td>4</td>\n",
              "    </tr>\n",
              "    <tr>\n",
              "      <th>2</th>\n",
              "      <td>3378</td>\n",
              "      <td>10246</td>\n",
              "      <td>19</td>\n",
              "      <td>0</td>\n",
              "      <td>Organic Celery Hearts</td>\n",
              "      <td>83</td>\n",
              "      <td>4</td>\n",
              "    </tr>\n",
              "    <tr>\n",
              "      <th>3</th>\n",
              "      <td>14119</td>\n",
              "      <td>10246</td>\n",
              "      <td>6</td>\n",
              "      <td>0</td>\n",
              "      <td>Organic Celery Hearts</td>\n",
              "      <td>83</td>\n",
              "      <td>4</td>\n",
              "    </tr>\n",
              "    <tr>\n",
              "      <th>4</th>\n",
              "      <td>17152</td>\n",
              "      <td>10246</td>\n",
              "      <td>22</td>\n",
              "      <td>1</td>\n",
              "      <td>Organic Celery Hearts</td>\n",
              "      <td>83</td>\n",
              "      <td>4</td>\n",
              "    </tr>\n",
              "  </tbody>\n",
              "</table>\n",
              "</div>"
            ],
            "text/plain": [
              "   order_id  product_id  add_to_cart_order  reordered           product_name  \\\n",
              "0         1       10246                  3          0  Organic Celery Hearts   \n",
              "1      2869       10246                  4          1  Organic Celery Hearts   \n",
              "2      3378       10246                 19          0  Organic Celery Hearts   \n",
              "3     14119       10246                  6          0  Organic Celery Hearts   \n",
              "4     17152       10246                 22          1  Organic Celery Hearts   \n",
              "\n",
              "   aisle_id  department_id  \n",
              "0        83              4  \n",
              "1        83              4  \n",
              "2        83              4  \n",
              "3        83              4  \n",
              "4        83              4  "
            ]
          },
          "execution_count": 15,
          "metadata": {},
          "output_type": "execute_result"
        }
      ],
      "source": [
        "data=df.merge(prod,left_on=\"product_id\",right_on=\"product_id\")\n",
        "data.head()"
      ]
    },
    {
      "cell_type": "code",
      "execution_count": 16,
      "metadata": {},
      "outputs": [],
      "source": [
        "# Join com as informações sobre o pedido\n",
        "data=data.merge(orders,left_on=\"order_id\",right_on=\"order_id\")"
      ]
    },
    {
      "cell_type": "code",
      "execution_count": 17,
      "metadata": {},
      "outputs": [
        {
          "data": {
            "text/html": [
              "<div>\n",
              "<style scoped>\n",
              "    .dataframe tbody tr th:only-of-type {\n",
              "        vertical-align: middle;\n",
              "    }\n",
              "\n",
              "    .dataframe tbody tr th {\n",
              "        vertical-align: top;\n",
              "    }\n",
              "\n",
              "    .dataframe thead th {\n",
              "        text-align: right;\n",
              "    }\n",
              "</style>\n",
              "<table border=\"1\" class=\"dataframe\">\n",
              "  <thead>\n",
              "    <tr style=\"text-align: right;\">\n",
              "      <th></th>\n",
              "      <th>order_id</th>\n",
              "      <th>product_id</th>\n",
              "      <th>add_to_cart_order</th>\n",
              "      <th>reordered</th>\n",
              "      <th>product_name</th>\n",
              "      <th>aisle_id</th>\n",
              "      <th>department_id</th>\n",
              "      <th>user_id</th>\n",
              "      <th>eval_set</th>\n",
              "      <th>order_number</th>\n",
              "      <th>order_dow</th>\n",
              "      <th>order_hour_of_day</th>\n",
              "      <th>days_since_prior_order</th>\n",
              "    </tr>\n",
              "  </thead>\n",
              "  <tbody>\n",
              "    <tr>\n",
              "      <th>0</th>\n",
              "      <td>1</td>\n",
              "      <td>10246</td>\n",
              "      <td>3</td>\n",
              "      <td>0</td>\n",
              "      <td>Organic Celery Hearts</td>\n",
              "      <td>83</td>\n",
              "      <td>4</td>\n",
              "      <td>112108</td>\n",
              "      <td>train</td>\n",
              "      <td>4</td>\n",
              "      <td>4</td>\n",
              "      <td>10</td>\n",
              "      <td>9.0</td>\n",
              "    </tr>\n",
              "    <tr>\n",
              "      <th>1</th>\n",
              "      <td>1</td>\n",
              "      <td>49683</td>\n",
              "      <td>4</td>\n",
              "      <td>0</td>\n",
              "      <td>Cucumber Kirby</td>\n",
              "      <td>83</td>\n",
              "      <td>4</td>\n",
              "      <td>112108</td>\n",
              "      <td>train</td>\n",
              "      <td>4</td>\n",
              "      <td>4</td>\n",
              "      <td>10</td>\n",
              "      <td>9.0</td>\n",
              "    </tr>\n",
              "    <tr>\n",
              "      <th>2</th>\n",
              "      <td>1</td>\n",
              "      <td>13176</td>\n",
              "      <td>6</td>\n",
              "      <td>0</td>\n",
              "      <td>Bag of Organic Bananas</td>\n",
              "      <td>24</td>\n",
              "      <td>4</td>\n",
              "      <td>112108</td>\n",
              "      <td>train</td>\n",
              "      <td>4</td>\n",
              "      <td>4</td>\n",
              "      <td>10</td>\n",
              "      <td>9.0</td>\n",
              "    </tr>\n",
              "    <tr>\n",
              "      <th>3</th>\n",
              "      <td>1</td>\n",
              "      <td>47209</td>\n",
              "      <td>7</td>\n",
              "      <td>0</td>\n",
              "      <td>Organic Hass Avocado</td>\n",
              "      <td>24</td>\n",
              "      <td>4</td>\n",
              "      <td>112108</td>\n",
              "      <td>train</td>\n",
              "      <td>4</td>\n",
              "      <td>4</td>\n",
              "      <td>10</td>\n",
              "      <td>9.0</td>\n",
              "    </tr>\n",
              "    <tr>\n",
              "      <th>4</th>\n",
              "      <td>1</td>\n",
              "      <td>22035</td>\n",
              "      <td>8</td>\n",
              "      <td>1</td>\n",
              "      <td>Organic Whole String Cheese</td>\n",
              "      <td>21</td>\n",
              "      <td>16</td>\n",
              "      <td>112108</td>\n",
              "      <td>train</td>\n",
              "      <td>4</td>\n",
              "      <td>4</td>\n",
              "      <td>10</td>\n",
              "      <td>9.0</td>\n",
              "    </tr>\n",
              "  </tbody>\n",
              "</table>\n",
              "</div>"
            ],
            "text/plain": [
              "   order_id  product_id  add_to_cart_order  reordered  \\\n",
              "0         1       10246                  3          0   \n",
              "1         1       49683                  4          0   \n",
              "2         1       13176                  6          0   \n",
              "3         1       47209                  7          0   \n",
              "4         1       22035                  8          1   \n",
              "\n",
              "                  product_name  aisle_id  department_id  user_id eval_set  \\\n",
              "0        Organic Celery Hearts        83              4   112108    train   \n",
              "1               Cucumber Kirby        83              4   112108    train   \n",
              "2       Bag of Organic Bananas        24              4   112108    train   \n",
              "3         Organic Hass Avocado        24              4   112108    train   \n",
              "4  Organic Whole String Cheese        21             16   112108    train   \n",
              "\n",
              "   order_number  order_dow  order_hour_of_day  days_since_prior_order  \n",
              "0             4          4                 10                     9.0  \n",
              "1             4          4                 10                     9.0  \n",
              "2             4          4                 10                     9.0  \n",
              "3             4          4                 10                     9.0  \n",
              "4             4          4                 10                     9.0  "
            ]
          },
          "execution_count": 17,
          "metadata": {},
          "output_type": "execute_result"
        }
      ],
      "source": [
        "data.head()"
      ]
    },
    {
      "cell_type": "code",
      "execution_count": 18,
      "metadata": {},
      "outputs": [
        {
          "data": {
            "text/html": [
              "<div>\n",
              "<style scoped>\n",
              "    .dataframe tbody tr th:only-of-type {\n",
              "        vertical-align: middle;\n",
              "    }\n",
              "\n",
              "    .dataframe tbody tr th {\n",
              "        vertical-align: top;\n",
              "    }\n",
              "\n",
              "    .dataframe thead th {\n",
              "        text-align: right;\n",
              "    }\n",
              "</style>\n",
              "<table border=\"1\" class=\"dataframe\">\n",
              "  <thead>\n",
              "    <tr style=\"text-align: right;\">\n",
              "      <th></th>\n",
              "      <th>order_id</th>\n",
              "      <th>product_name</th>\n",
              "    </tr>\n",
              "  </thead>\n",
              "  <tbody>\n",
              "    <tr>\n",
              "      <th>22</th>\n",
              "      <td>14119</td>\n",
              "      <td>Organic Celery Hearts</td>\n",
              "    </tr>\n",
              "    <tr>\n",
              "      <th>23</th>\n",
              "      <td>14119</td>\n",
              "      <td>Organic Unsweetened Almond Milk</td>\n",
              "    </tr>\n",
              "    <tr>\n",
              "      <th>24</th>\n",
              "      <td>14119</td>\n",
              "      <td>Cherubs Heavenly Salad Tomatoes</td>\n",
              "    </tr>\n",
              "    <tr>\n",
              "      <th>25</th>\n",
              "      <td>14119</td>\n",
              "      <td>Organic Baby Carrots</td>\n",
              "    </tr>\n",
              "    <tr>\n",
              "      <th>26</th>\n",
              "      <td>14119</td>\n",
              "      <td>Organic Baby Spinach</td>\n",
              "    </tr>\n",
              "  </tbody>\n",
              "</table>\n",
              "</div>"
            ],
            "text/plain": [
              "    order_id                     product_name\n",
              "22     14119            Organic Celery Hearts\n",
              "23     14119  Organic Unsweetened Almond Milk\n",
              "24     14119  Cherubs Heavenly Salad Tomatoes\n",
              "25     14119             Organic Baby Carrots\n",
              "26     14119             Organic Baby Spinach"
            ]
          },
          "execution_count": 18,
          "metadata": {},
          "output_type": "execute_result"
        }
      ],
      "source": [
        "# Mantendo apenas order_id e product_name\n",
        "data=data.iloc[:,[0,4]][data.order_dow==0]\n",
        "data.head()"
      ]
    },
    {
      "cell_type": "code",
      "execution_count": 19,
      "metadata": {},
      "outputs": [
        {
          "name": "stdout",
          "output_type": "stream",
          "text": [
            "<class 'pandas.core.frame.DataFrame'>\n",
            "Int64Index: 185422 entries, 22 to 756892\n",
            "Data columns (total 2 columns):\n",
            " #   Column        Non-Null Count   Dtype \n",
            "---  ------        --------------   ----- \n",
            " 0   order_id      185422 non-null  int64 \n",
            " 1   product_name  185422 non-null  object\n",
            "dtypes: int64(1), object(1)\n",
            "memory usage: 4.2+ MB\n"
          ]
        }
      ],
      "source": [
        "data.info()"
      ]
    },
    {
      "cell_type": "code",
      "execution_count": 21,
      "metadata": {},
      "outputs": [
        {
          "data": {
            "text/plain": [
              "Banana                    4692\n",
              "Bag of Organic Bananas    3549\n",
              "Organic Strawberries      2798\n",
              "Organic Baby Spinach      2636\n",
              "Large Lemon               2218\n",
              "Organic Avocado           2027\n",
              "Organic Hass Avocado      1892\n",
              "Limes                     1607\n",
              "Strawberries              1555\n",
              "Organic Raspberries       1376\n",
              "Name: product_name, dtype: int64"
            ]
          },
          "execution_count": 21,
          "metadata": {},
          "output_type": "execute_result"
        }
      ],
      "source": [
        "data.product_name.value_counts().head(10)"
      ]
    },
    {
      "cell_type": "markdown",
      "metadata": {},
      "source": [
        "Dentre os produtos mais pedidos, é possível verificar que existem variações de um mesmo produto, por exemplo, banana, Bag Of banana, organic banana. Esses termos foram filtrados. Como sugestão, seria interessante utilizar alguma técnica de processamento de linguagem natural para verificar a similaridade entre as palavras, mas para fins deste exercício, manteve-se o filtro apenas pelo observado.\n",
        "\n",
        "Ainda, aqui vale observar que informação da área de negócio é essencial para determinar se realmente faz sentido juntar os produtos em um só, ou se seria interessante manter as regras separadas."
      ]
    },
    {
      "cell_type": "code",
      "execution_count": 23,
      "metadata": {},
      "outputs": [
        {
          "data": {
            "text/plain": [
              "Banana          8929\n",
              "Avocado         4399\n",
              "Strawberries    4353\n",
              "Baby Spinach    2947\n",
              "Large Lemon     2218\n",
              "Raspberries     2155\n",
              "Blueberries     1739\n",
              "Garlic          1616\n",
              "Limes           1607\n",
              "Whole Milk      1496\n",
              "Name: product_name, dtype: int64"
            ]
          },
          "execution_count": 23,
          "metadata": {},
          "output_type": "execute_result"
        }
      ],
      "source": [
        "substituicao={'Organic ':'','Box of ':'','Bag of':'','Bananas':'Banana','Hass':''}\n",
        "data['product_name']=data['product_name'].replace(substituicao,regex=True).str.strip()\n",
        "data.product_name.value_counts().head(10)"
      ]
    },
    {
      "cell_type": "code",
      "execution_count": 24,
      "metadata": {},
      "outputs": [
        {
          "name": "stdout",
          "output_type": "stream",
          "text": [
            "<class 'pandas.core.frame.DataFrame'>\n",
            "Int64Index: 185422 entries, 22 to 756892\n",
            "Data columns (total 2 columns):\n",
            " #   Column        Non-Null Count   Dtype \n",
            "---  ------        --------------   ----- \n",
            " 0   order_id      185422 non-null  int64 \n",
            " 1   product_name  185422 non-null  object\n",
            "dtypes: int64(1), object(1)\n",
            "memory usage: 4.2+ MB\n"
          ]
        }
      ],
      "source": [
        "data.info()"
      ]
    },
    {
      "cell_type": "markdown",
      "metadata": {},
      "source": [
        "## One hot encoding\n",
        "\n",
        "Para executar o algoritmo Apriori é necessário que o banco de dados esteja organizado de tal forma que as linhas representem os pedidos e as colunas são a lista de cada produto nos pedidos. Caso um produto tenha sido solicitado no pedido, deve ser tratado com 1, caso contrário, será 0 (one hot enconding)."
      ]
    },
    {
      "cell_type": "code",
      "execution_count": 25,
      "metadata": {},
      "outputs": [
        {
          "data": {
            "text/html": [
              "<div>\n",
              "<style scoped>\n",
              "    .dataframe tbody tr th:only-of-type {\n",
              "        vertical-align: middle;\n",
              "    }\n",
              "\n",
              "    .dataframe tbody tr th {\n",
              "        vertical-align: top;\n",
              "    }\n",
              "\n",
              "    .dataframe thead th {\n",
              "        text-align: right;\n",
              "    }\n",
              "</style>\n",
              "<table border=\"1\" class=\"dataframe\">\n",
              "  <thead>\n",
              "    <tr style=\"text-align: right;\">\n",
              "      <th>product_name</th>\n",
              "      <th>&amp; Raw Strawberry Serenity Kombucha</th>\n",
              "      <th>0% Greek Strained Yogurt</th>\n",
              "      <th>1% Low Fat Milk</th>\n",
              "      <th>1% Lowfat Milk</th>\n",
              "      <th>100 Calorie  Per Bag Popcorn</th>\n",
              "      <th>100% Apple Juice</th>\n",
              "      <th>100% Grated Parmesan Cheese</th>\n",
              "      <th>100% Lactose Free Fat Free Milk</th>\n",
              "      <th>100% Natural Spring Water</th>\n",
              "      <th>100% Pure Apple Juice</th>\n",
              "      <th>...</th>\n",
              "      <th>Yogurt, Lowfat, Strawberry</th>\n",
              "      <th>Yogurt, Strained Low-Fat, Coconut</th>\n",
              "      <th>Yokids Lemonade/Blueberry Variety Pack Yogurt Squeezers Tubes</th>\n",
              "      <th>Yukon Gold Potatoes 5lb Bag</th>\n",
              "      <th>ZBar Chocolate Brownie Energy Snack</th>\n",
              "      <th>Zero Calorie Cola</th>\n",
              "      <th>Zucchini</th>\n",
              "      <th>Zucchini Spirals</th>\n",
              "      <th>Zucchini Squash</th>\n",
              "      <th>smartwater® Electrolyte Enhanced Water</th>\n",
              "    </tr>\n",
              "    <tr>\n",
              "      <th>order_id</th>\n",
              "      <th></th>\n",
              "      <th></th>\n",
              "      <th></th>\n",
              "      <th></th>\n",
              "      <th></th>\n",
              "      <th></th>\n",
              "      <th></th>\n",
              "      <th></th>\n",
              "      <th></th>\n",
              "      <th></th>\n",
              "      <th></th>\n",
              "      <th></th>\n",
              "      <th></th>\n",
              "      <th></th>\n",
              "      <th></th>\n",
              "      <th></th>\n",
              "      <th></th>\n",
              "      <th></th>\n",
              "      <th></th>\n",
              "      <th></th>\n",
              "      <th></th>\n",
              "    </tr>\n",
              "  </thead>\n",
              "  <tbody>\n",
              "    <tr>\n",
              "      <th>170</th>\n",
              "      <td>0.0</td>\n",
              "      <td>0.0</td>\n",
              "      <td>0.0</td>\n",
              "      <td>0.0</td>\n",
              "      <td>0.0</td>\n",
              "      <td>0.0</td>\n",
              "      <td>0.0</td>\n",
              "      <td>0.0</td>\n",
              "      <td>0.0</td>\n",
              "      <td>0.0</td>\n",
              "      <td>...</td>\n",
              "      <td>0.0</td>\n",
              "      <td>0.0</td>\n",
              "      <td>0.0</td>\n",
              "      <td>0.0</td>\n",
              "      <td>0.0</td>\n",
              "      <td>0.0</td>\n",
              "      <td>0.0</td>\n",
              "      <td>0.0</td>\n",
              "      <td>0.0</td>\n",
              "      <td>0.0</td>\n",
              "    </tr>\n",
              "    <tr>\n",
              "      <th>218</th>\n",
              "      <td>0.0</td>\n",
              "      <td>0.0</td>\n",
              "      <td>0.0</td>\n",
              "      <td>0.0</td>\n",
              "      <td>0.0</td>\n",
              "      <td>0.0</td>\n",
              "      <td>0.0</td>\n",
              "      <td>0.0</td>\n",
              "      <td>0.0</td>\n",
              "      <td>0.0</td>\n",
              "      <td>...</td>\n",
              "      <td>0.0</td>\n",
              "      <td>0.0</td>\n",
              "      <td>0.0</td>\n",
              "      <td>0.0</td>\n",
              "      <td>0.0</td>\n",
              "      <td>0.0</td>\n",
              "      <td>0.0</td>\n",
              "      <td>0.0</td>\n",
              "      <td>0.0</td>\n",
              "      <td>0.0</td>\n",
              "    </tr>\n",
              "    <tr>\n",
              "      <th>226</th>\n",
              "      <td>0.0</td>\n",
              "      <td>0.0</td>\n",
              "      <td>0.0</td>\n",
              "      <td>0.0</td>\n",
              "      <td>0.0</td>\n",
              "      <td>0.0</td>\n",
              "      <td>0.0</td>\n",
              "      <td>0.0</td>\n",
              "      <td>0.0</td>\n",
              "      <td>0.0</td>\n",
              "      <td>...</td>\n",
              "      <td>0.0</td>\n",
              "      <td>0.0</td>\n",
              "      <td>0.0</td>\n",
              "      <td>0.0</td>\n",
              "      <td>0.0</td>\n",
              "      <td>0.0</td>\n",
              "      <td>0.0</td>\n",
              "      <td>0.0</td>\n",
              "      <td>0.0</td>\n",
              "      <td>0.0</td>\n",
              "    </tr>\n",
              "    <tr>\n",
              "      <th>456</th>\n",
              "      <td>0.0</td>\n",
              "      <td>0.0</td>\n",
              "      <td>0.0</td>\n",
              "      <td>0.0</td>\n",
              "      <td>0.0</td>\n",
              "      <td>0.0</td>\n",
              "      <td>0.0</td>\n",
              "      <td>0.0</td>\n",
              "      <td>0.0</td>\n",
              "      <td>0.0</td>\n",
              "      <td>...</td>\n",
              "      <td>0.0</td>\n",
              "      <td>0.0</td>\n",
              "      <td>0.0</td>\n",
              "      <td>0.0</td>\n",
              "      <td>0.0</td>\n",
              "      <td>0.0</td>\n",
              "      <td>0.0</td>\n",
              "      <td>0.0</td>\n",
              "      <td>0.0</td>\n",
              "      <td>0.0</td>\n",
              "    </tr>\n",
              "    <tr>\n",
              "      <th>1143</th>\n",
              "      <td>0.0</td>\n",
              "      <td>0.0</td>\n",
              "      <td>0.0</td>\n",
              "      <td>0.0</td>\n",
              "      <td>0.0</td>\n",
              "      <td>0.0</td>\n",
              "      <td>0.0</td>\n",
              "      <td>0.0</td>\n",
              "      <td>0.0</td>\n",
              "      <td>0.0</td>\n",
              "      <td>...</td>\n",
              "      <td>0.0</td>\n",
              "      <td>0.0</td>\n",
              "      <td>0.0</td>\n",
              "      <td>0.0</td>\n",
              "      <td>0.0</td>\n",
              "      <td>0.0</td>\n",
              "      <td>0.0</td>\n",
              "      <td>0.0</td>\n",
              "      <td>0.0</td>\n",
              "      <td>0.0</td>\n",
              "    </tr>\n",
              "  </tbody>\n",
              "</table>\n",
              "<p>5 rows × 1054 columns</p>\n",
              "</div>"
            ],
            "text/plain": [
              "product_name  & Raw Strawberry Serenity Kombucha  0% Greek Strained Yogurt  \\\n",
              "order_id                                                                     \n",
              "170                                          0.0                       0.0   \n",
              "218                                          0.0                       0.0   \n",
              "226                                          0.0                       0.0   \n",
              "456                                          0.0                       0.0   \n",
              "1143                                         0.0                       0.0   \n",
              "\n",
              "product_name  1% Low Fat Milk  1% Lowfat Milk  100 Calorie  Per Bag Popcorn  \\\n",
              "order_id                                                                      \n",
              "170                       0.0             0.0                           0.0   \n",
              "218                       0.0             0.0                           0.0   \n",
              "226                       0.0             0.0                           0.0   \n",
              "456                       0.0             0.0                           0.0   \n",
              "1143                      0.0             0.0                           0.0   \n",
              "\n",
              "product_name  100% Apple Juice  100% Grated Parmesan Cheese  \\\n",
              "order_id                                                      \n",
              "170                        0.0                          0.0   \n",
              "218                        0.0                          0.0   \n",
              "226                        0.0                          0.0   \n",
              "456                        0.0                          0.0   \n",
              "1143                       0.0                          0.0   \n",
              "\n",
              "product_name  100% Lactose Free Fat Free Milk  100% Natural Spring Water  \\\n",
              "order_id                                                                   \n",
              "170                                       0.0                        0.0   \n",
              "218                                       0.0                        0.0   \n",
              "226                                       0.0                        0.0   \n",
              "456                                       0.0                        0.0   \n",
              "1143                                      0.0                        0.0   \n",
              "\n",
              "product_name  100% Pure Apple Juice  ...  Yogurt, Lowfat, Strawberry  \\\n",
              "order_id                             ...                               \n",
              "170                             0.0  ...                         0.0   \n",
              "218                             0.0  ...                         0.0   \n",
              "226                             0.0  ...                         0.0   \n",
              "456                             0.0  ...                         0.0   \n",
              "1143                            0.0  ...                         0.0   \n",
              "\n",
              "product_name  Yogurt, Strained Low-Fat, Coconut  \\\n",
              "order_id                                          \n",
              "170                                         0.0   \n",
              "218                                         0.0   \n",
              "226                                         0.0   \n",
              "456                                         0.0   \n",
              "1143                                        0.0   \n",
              "\n",
              "product_name  Yokids Lemonade/Blueberry Variety Pack Yogurt Squeezers Tubes  \\\n",
              "order_id                                                                      \n",
              "170                                                         0.0               \n",
              "218                                                         0.0               \n",
              "226                                                         0.0               \n",
              "456                                                         0.0               \n",
              "1143                                                        0.0               \n",
              "\n",
              "product_name  Yukon Gold Potatoes 5lb Bag  \\\n",
              "order_id                                    \n",
              "170                                   0.0   \n",
              "218                                   0.0   \n",
              "226                                   0.0   \n",
              "456                                   0.0   \n",
              "1143                                  0.0   \n",
              "\n",
              "product_name  ZBar Chocolate Brownie Energy Snack  Zero Calorie Cola  \\\n",
              "order_id                                                               \n",
              "170                                           0.0                0.0   \n",
              "218                                           0.0                0.0   \n",
              "226                                           0.0                0.0   \n",
              "456                                           0.0                0.0   \n",
              "1143                                          0.0                0.0   \n",
              "\n",
              "product_name  Zucchini  Zucchini Spirals  Zucchini Squash  \\\n",
              "order_id                                                    \n",
              "170                0.0               0.0              0.0   \n",
              "218                0.0               0.0              0.0   \n",
              "226                0.0               0.0              0.0   \n",
              "456                0.0               0.0              0.0   \n",
              "1143               0.0               0.0              0.0   \n",
              "\n",
              "product_name  smartwater® Electrolyte Enhanced Water  \n",
              "order_id                                              \n",
              "170                                              0.0  \n",
              "218                                              0.0  \n",
              "226                                              0.0  \n",
              "456                                              0.0  \n",
              "1143                                             0.0  \n",
              "\n",
              "[5 rows x 1054 columns]"
            ]
          },
          "execution_count": 25,
          "metadata": {},
          "output_type": "execute_result"
        }
      ],
      "source": [
        "basket= data[['order_id','product_name']].value_counts().unstack().reset_index().fillna(0).set_index('order_id')\n",
        "basket.head()"
      ]
    },
    {
      "cell_type": "code",
      "execution_count": 26,
      "metadata": {},
      "outputs": [],
      "source": [
        "def encode_units(x):\n",
        "    if x <= 0:\n",
        "        return False\n",
        "    if x >= 1:\n",
        "        return True\n",
        "\n",
        "basket_sets = basket.applymap(encode_units)"
      ]
    },
    {
      "cell_type": "code",
      "execution_count": 27,
      "metadata": {},
      "outputs": [
        {
          "name": "stdout",
          "output_type": "stream",
          "text": [
            "<class 'pandas.core.frame.DataFrame'>\n",
            "Int64Index: 25517 entries, 170 to 3421063\n",
            "Columns: 1054 entries, & Raw Strawberry Serenity Kombucha to smartwater® Electrolyte Enhanced Water\n",
            "dtypes: bool(1054)\n",
            "memory usage: 25.8 MB\n"
          ]
        }
      ],
      "source": [
        "basket_sets.info()"
      ]
    },
    {
      "cell_type": "markdown",
      "metadata": {},
      "source": [
        "# Criação das Regras"
      ]
    },
    {
      "cell_type": "markdown",
      "metadata": {},
      "source": [
        "Com os dados devidamente estruturados, é possível aplicar o algoritmo para cálculo dos itens frequentes, que é a base para a criação das regras. Consiste em verificar os produtos ou conjunto de produtos que aparecem nos pedidos de acordo com um limite mínimo pré-estabelecido.\n",
        "\n",
        "Para este estudo, limitou-se aos produtos com **suporte** de 1%, ou seja, que possuem frequência relativa de 1% no total da base de dados. Esse valor foi escolhido de forma arbitrária, mas pode ser alterado para verificar o que acontece. Neste caso, não se observou muita diferença nas regras executadas."
      ]
    },
    {
      "cell_type": "code",
      "execution_count": 28,
      "metadata": {},
      "outputs": [
        {
          "data": {
            "text/html": [
              "<div>\n",
              "<style scoped>\n",
              "    .dataframe tbody tr th:only-of-type {\n",
              "        vertical-align: middle;\n",
              "    }\n",
              "\n",
              "    .dataframe tbody tr th {\n",
              "        vertical-align: top;\n",
              "    }\n",
              "\n",
              "    .dataframe thead th {\n",
              "        text-align: right;\n",
              "    }\n",
              "</style>\n",
              "<table border=\"1\" class=\"dataframe\">\n",
              "  <thead>\n",
              "    <tr style=\"text-align: right;\">\n",
              "      <th></th>\n",
              "      <th>support</th>\n",
              "      <th>itemsets</th>\n",
              "    </tr>\n",
              "  </thead>\n",
              "  <tbody>\n",
              "    <tr>\n",
              "      <th>13</th>\n",
              "      <td>0.349218</td>\n",
              "      <td>(Banana)</td>\n",
              "    </tr>\n",
              "    <tr>\n",
              "      <th>6</th>\n",
              "      <td>0.172042</td>\n",
              "      <td>(Avocado)</td>\n",
              "    </tr>\n",
              "    <tr>\n",
              "      <th>126</th>\n",
              "      <td>0.170004</td>\n",
              "      <td>(Strawberries)</td>\n",
              "    </tr>\n",
              "    <tr>\n",
              "      <th>11</th>\n",
              "      <td>0.115413</td>\n",
              "      <td>(Baby Spinach)</td>\n",
              "    </tr>\n",
              "    <tr>\n",
              "      <th>231</th>\n",
              "      <td>0.088451</td>\n",
              "      <td>(Banana, Strawberries)</td>\n",
              "    </tr>\n",
              "    <tr>\n",
              "      <th>...</th>\n",
              "      <td>...</td>\n",
              "      <td>...</td>\n",
              "    </tr>\n",
              "    <tr>\n",
              "      <th>224</th>\n",
              "      <td>0.010150</td>\n",
              "      <td>(Banana, Roasted Turkey Breast)</td>\n",
              "    </tr>\n",
              "    <tr>\n",
              "      <th>263</th>\n",
              "      <td>0.010072</td>\n",
              "      <td>(Banana, Cucumber, Avocado)</td>\n",
              "    </tr>\n",
              "    <tr>\n",
              "      <th>177</th>\n",
              "      <td>0.010072</td>\n",
              "      <td>(Baby Carrots, Strawberries)</td>\n",
              "    </tr>\n",
              "    <tr>\n",
              "      <th>209</th>\n",
              "      <td>0.010033</td>\n",
              "      <td>(Banana, Italian Parsley Bunch)</td>\n",
              "    </tr>\n",
              "    <tr>\n",
              "      <th>173</th>\n",
              "      <td>0.010033</td>\n",
              "      <td>(Yellow Onions, Avocado)</td>\n",
              "    </tr>\n",
              "  </tbody>\n",
              "</table>\n",
              "<p>273 rows × 2 columns</p>\n",
              "</div>"
            ],
            "text/plain": [
              "      support                         itemsets\n",
              "13   0.349218                         (Banana)\n",
              "6    0.172042                        (Avocado)\n",
              "126  0.170004                   (Strawberries)\n",
              "11   0.115413                   (Baby Spinach)\n",
              "231  0.088451           (Banana, Strawberries)\n",
              "..        ...                              ...\n",
              "224  0.010150  (Banana, Roasted Turkey Breast)\n",
              "263  0.010072      (Banana, Cucumber, Avocado)\n",
              "177  0.010072     (Baby Carrots, Strawberries)\n",
              "209  0.010033  (Banana, Italian Parsley Bunch)\n",
              "173  0.010033         (Yellow Onions, Avocado)\n",
              "\n",
              "[273 rows x 2 columns]"
            ]
          },
          "execution_count": 28,
          "metadata": {},
          "output_type": "execute_result"
        }
      ],
      "source": [
        "frequent_itemsets = apriori(basket_sets, min_support=0.01, use_colnames=True,low_memory=True)\n",
        "frequent_itemsets.sort_values('support',ascending=False)"
      ]
    },
    {
      "cell_type": "markdown",
      "metadata": {},
      "source": [
        "Suporte máximo obtido de 0,34\n",
        "\n",
        "Restringindo a produtos que apareceram 500 vezes, o suporte máximo foi de 0,36. \n"
      ]
    },
    {
      "cell_type": "code",
      "execution_count": 29,
      "metadata": {},
      "outputs": [
        {
          "data": {
            "text/html": [
              "<div>\n",
              "<style scoped>\n",
              "    .dataframe tbody tr th:only-of-type {\n",
              "        vertical-align: middle;\n",
              "    }\n",
              "\n",
              "    .dataframe tbody tr th {\n",
              "        vertical-align: top;\n",
              "    }\n",
              "\n",
              "    .dataframe thead th {\n",
              "        text-align: right;\n",
              "    }\n",
              "</style>\n",
              "<table border=\"1\" class=\"dataframe\">\n",
              "  <thead>\n",
              "    <tr style=\"text-align: right;\">\n",
              "      <th></th>\n",
              "      <th>antecedents</th>\n",
              "      <th>consequents</th>\n",
              "      <th>antecedent support</th>\n",
              "      <th>consequent support</th>\n",
              "      <th>support</th>\n",
              "      <th>confidence</th>\n",
              "      <th>lift</th>\n",
              "      <th>leverage</th>\n",
              "      <th>conviction</th>\n",
              "    </tr>\n",
              "  </thead>\n",
              "  <tbody>\n",
              "    <tr>\n",
              "      <th>0</th>\n",
              "      <td>(Banana)</td>\n",
              "      <td>(100% Whole Wheat Bread)</td>\n",
              "      <td>0.349218</td>\n",
              "      <td>0.023083</td>\n",
              "      <td>0.010699</td>\n",
              "      <td>0.030636</td>\n",
              "      <td>1.327243</td>\n",
              "      <td>0.002638</td>\n",
              "      <td>1.007792</td>\n",
              "    </tr>\n",
              "    <tr>\n",
              "      <th>1</th>\n",
              "      <td>(100% Whole Wheat Bread)</td>\n",
              "      <td>(Banana)</td>\n",
              "      <td>0.023083</td>\n",
              "      <td>0.349218</td>\n",
              "      <td>0.010699</td>\n",
              "      <td>0.463497</td>\n",
              "      <td>1.327243</td>\n",
              "      <td>0.002638</td>\n",
              "      <td>1.213008</td>\n",
              "    </tr>\n",
              "    <tr>\n",
              "      <th>2</th>\n",
              "      <td>(Banana)</td>\n",
              "      <td>(2% Reduced Fat Milk)</td>\n",
              "      <td>0.349218</td>\n",
              "      <td>0.025943</td>\n",
              "      <td>0.010228</td>\n",
              "      <td>0.029290</td>\n",
              "      <td>1.128979</td>\n",
              "      <td>0.001169</td>\n",
              "      <td>1.003447</td>\n",
              "    </tr>\n",
              "    <tr>\n",
              "      <th>3</th>\n",
              "      <td>(2% Reduced Fat Milk)</td>\n",
              "      <td>(Banana)</td>\n",
              "      <td>0.025943</td>\n",
              "      <td>0.349218</td>\n",
              "      <td>0.010228</td>\n",
              "      <td>0.394260</td>\n",
              "      <td>1.128979</td>\n",
              "      <td>0.001169</td>\n",
              "      <td>1.074358</td>\n",
              "    </tr>\n",
              "    <tr>\n",
              "      <th>4</th>\n",
              "      <td>(Banana)</td>\n",
              "      <td>(Apple Honeycrisp Organic)</td>\n",
              "      <td>0.349218</td>\n",
              "      <td>0.021397</td>\n",
              "      <td>0.012070</td>\n",
              "      <td>0.034564</td>\n",
              "      <td>1.615330</td>\n",
              "      <td>0.004598</td>\n",
              "      <td>1.013638</td>\n",
              "    </tr>\n",
              "    <tr>\n",
              "      <th>...</th>\n",
              "      <td>...</td>\n",
              "      <td>...</td>\n",
              "      <td>...</td>\n",
              "      <td>...</td>\n",
              "      <td>...</td>\n",
              "      <td>...</td>\n",
              "      <td>...</td>\n",
              "      <td>...</td>\n",
              "      <td>...</td>\n",
              "    </tr>\n",
              "    <tr>\n",
              "      <th>295</th>\n",
              "      <td>(Banana, Strawberries)</td>\n",
              "      <td>(Raspberries)</td>\n",
              "      <td>0.088451</td>\n",
              "      <td>0.084218</td>\n",
              "      <td>0.018145</td>\n",
              "      <td>0.205140</td>\n",
              "      <td>2.435806</td>\n",
              "      <td>0.010696</td>\n",
              "      <td>1.152129</td>\n",
              "    </tr>\n",
              "    <tr>\n",
              "      <th>296</th>\n",
              "      <td>(Raspberries, Strawberries)</td>\n",
              "      <td>(Banana)</td>\n",
              "      <td>0.030960</td>\n",
              "      <td>0.349218</td>\n",
              "      <td>0.018145</td>\n",
              "      <td>0.586076</td>\n",
              "      <td>1.678252</td>\n",
              "      <td>0.007333</td>\n",
              "      <td>1.572225</td>\n",
              "    </tr>\n",
              "    <tr>\n",
              "      <th>297</th>\n",
              "      <td>(Banana)</td>\n",
              "      <td>(Raspberries, Strawberries)</td>\n",
              "      <td>0.349218</td>\n",
              "      <td>0.030960</td>\n",
              "      <td>0.018145</td>\n",
              "      <td>0.051958</td>\n",
              "      <td>1.678252</td>\n",
              "      <td>0.007333</td>\n",
              "      <td>1.022149</td>\n",
              "    </tr>\n",
              "    <tr>\n",
              "      <th>298</th>\n",
              "      <td>(Raspberries)</td>\n",
              "      <td>(Banana, Strawberries)</td>\n",
              "      <td>0.084218</td>\n",
              "      <td>0.088451</td>\n",
              "      <td>0.018145</td>\n",
              "      <td>0.215449</td>\n",
              "      <td>2.435806</td>\n",
              "      <td>0.010696</td>\n",
              "      <td>1.161874</td>\n",
              "    </tr>\n",
              "    <tr>\n",
              "      <th>299</th>\n",
              "      <td>(Strawberries)</td>\n",
              "      <td>(Banana, Raspberries)</td>\n",
              "      <td>0.170004</td>\n",
              "      <td>0.042090</td>\n",
              "      <td>0.018145</td>\n",
              "      <td>0.106731</td>\n",
              "      <td>2.535810</td>\n",
              "      <td>0.010989</td>\n",
              "      <td>1.072365</td>\n",
              "    </tr>\n",
              "  </tbody>\n",
              "</table>\n",
              "<p>300 rows × 9 columns</p>\n",
              "</div>"
            ],
            "text/plain": [
              "                     antecedents                  consequents  \\\n",
              "0                       (Banana)     (100% Whole Wheat Bread)   \n",
              "1       (100% Whole Wheat Bread)                     (Banana)   \n",
              "2                       (Banana)        (2% Reduced Fat Milk)   \n",
              "3          (2% Reduced Fat Milk)                     (Banana)   \n",
              "4                       (Banana)   (Apple Honeycrisp Organic)   \n",
              "..                           ...                          ...   \n",
              "295       (Banana, Strawberries)                (Raspberries)   \n",
              "296  (Raspberries, Strawberries)                     (Banana)   \n",
              "297                     (Banana)  (Raspberries, Strawberries)   \n",
              "298                (Raspberries)       (Banana, Strawberries)   \n",
              "299               (Strawberries)        (Banana, Raspberries)   \n",
              "\n",
              "     antecedent support  consequent support   support  confidence      lift  \\\n",
              "0              0.349218            0.023083  0.010699    0.030636  1.327243   \n",
              "1              0.023083            0.349218  0.010699    0.463497  1.327243   \n",
              "2              0.349218            0.025943  0.010228    0.029290  1.128979   \n",
              "3              0.025943            0.349218  0.010228    0.394260  1.128979   \n",
              "4              0.349218            0.021397  0.012070    0.034564  1.615330   \n",
              "..                  ...                 ...       ...         ...       ...   \n",
              "295            0.088451            0.084218  0.018145    0.205140  2.435806   \n",
              "296            0.030960            0.349218  0.018145    0.586076  1.678252   \n",
              "297            0.349218            0.030960  0.018145    0.051958  1.678252   \n",
              "298            0.084218            0.088451  0.018145    0.215449  2.435806   \n",
              "299            0.170004            0.042090  0.018145    0.106731  2.535810   \n",
              "\n",
              "     leverage  conviction  \n",
              "0    0.002638    1.007792  \n",
              "1    0.002638    1.213008  \n",
              "2    0.001169    1.003447  \n",
              "3    0.001169    1.074358  \n",
              "4    0.004598    1.013638  \n",
              "..        ...         ...  \n",
              "295  0.010696    1.152129  \n",
              "296  0.007333    1.572225  \n",
              "297  0.007333    1.022149  \n",
              "298  0.010696    1.161874  \n",
              "299  0.010989    1.072365  \n",
              "\n",
              "[300 rows x 9 columns]"
            ]
          },
          "execution_count": 29,
          "metadata": {},
          "output_type": "execute_result"
        }
      ],
      "source": [
        "# Criação das Regras\n",
        "rules = association_rules(frequent_itemsets, metric=\"lift\", min_threshold=1)\n",
        "rules"
      ]
    },
    {
      "cell_type": "code",
      "execution_count": 30,
      "metadata": {},
      "outputs": [],
      "source": [
        "rules.sort_values(by='lift',ascending=False).to_csv('teste.csv')"
      ]
    },
    {
      "cell_type": "code",
      "execution_count": 31,
      "metadata": {},
      "outputs": [
        {
          "data": {
            "text/plain": [
              "1.6940066333742185"
            ]
          },
          "execution_count": 31,
          "metadata": {},
          "output_type": "execute_result"
        }
      ],
      "source": [
        "rules.lift.mean()"
      ]
    },
    {
      "cell_type": "markdown",
      "metadata": {},
      "source": [
        "## Interpretações\n",
        "\n",
        "- As regras de acordo com os critérios estabelecidos representam o perfil de consumo de produtos horti-fruti granjeiros. Todas as regras envolvem esses produtos.\n",
        "\n",
        "- Exemplifica-se a interpretação da última regra: quem compra morangos (antecedente) terá como sugestão levar também banana e raspberries (consequentes). \n",
        "    - O suporte do antecedente significa que morangos foram comprados em 17% dos pedidos considerados. O suporte do consequente significa que o item frequente composto por banana e raspberries apareceu em 4% dos pedidos. Já o suporte de 1,8% é o percentual de vezes que a regra aconteceu, ou seja, que foram comprados os 3 produtos. \n",
        "    - confiança refere-se ao percentual de vezes em que bananas e raspberries foram compradas, dado que morangos foram compradas, ou seja, 10% dos pedidos que contêm morangos, também contém bananas e raspberries.\n",
        "    - O lift foi tomado como a medida mais importante, ela representa a chance de um pedido que contém morango, também conter banana e raspberries. No caso, o cliente que leva banana tem 2,5 vezes mais chances de também levar bananas e raspberries.\n",
        "    - Conviction representa o percentual de falha da regra."
      ]
    },
    {
      "cell_type": "markdown",
      "metadata": {},
      "source": [
        "# Extra\n",
        "\n",
        "Nesta etapa, testou-se se a criação de regras por dia da semana ou por departamento traduz alguma diferença nas regras, o que pode se beneficiar de um conhecimento técnico na área de negócio. Neste estudo de caso, serviu apenas como um exercício."
      ]
    },
    {
      "cell_type": "code",
      "execution_count": 37,
      "metadata": {},
      "outputs": [
        {
          "name": "stdout",
          "output_type": "stream",
          "text": [
            "DOW:  0\n",
            "1.6103061416860593\n",
            "DOW:  1\n",
            "1.633945897043864\n",
            "DOW:  2\n",
            "1.7385429942513986\n",
            "DOW:  3\n",
            "1.774693897027502\n",
            "DOW:  4\n",
            "1.8024558639919754\n",
            "DOW:  5\n",
            "1.8157363194041574\n",
            "DOW:  6\n",
            "1.7729557668339988\n"
          ]
        }
      ],
      "source": [
        "filtro_orderId=list(df.order_id.value_counts()[df.order_id.value_counts()>1].index)\n",
        "filtro_produtos=list(df.product_id.value_counts()[df.product_id.value_counts()>200].index)\n",
        "# data=df.merge(prod,left_on=\"product_id\",right_on=\"product_id\")\n",
        "# data=data.merge(orders,left_on=\"order_id\",right_on=\"order_id\")\n",
        "\n",
        "\n",
        "for i in range(0,7):\n",
        "    data=df.merge(prod,left_on=\"product_id\",right_on=\"product_id\")\n",
        "    data=data.merge(orders,left_on=\"order_id\",right_on=\"order_id\")\n",
        "    data=data[(data['order_id'].isin(filtro_orderId)) & (data.order_dow==i)]\n",
        "    data=data[data['product_id'].isin(filtro_produtos)]\n",
        "    data=data.loc[:,['order_id','product_name']]#[data.order_dow==i]\n",
        "    substituicao={'Organic ':'','Box of ':'','Bag of':'','Bananas':'Banana','Hass':''}\n",
        "    data['product_name']=data['product_name'].replace(substituicao,regex=True).str.strip()\n",
        "    basket= data[['order_id','product_name']].value_counts().unstack().reset_index().fillna(0).set_index('order_id')\n",
        "\n",
        "    basket_sets = basket.applymap(encode_units)\n",
        "\n",
        "    frequent_itemsets = apriori(basket_sets, min_support=0.01, use_colnames=True,low_memory=True)\n",
        "    frequent_itemsets.sort_values('support',ascending=False)\n",
        "    rules = association_rules(frequent_itemsets, metric=\"lift\", min_threshold=1)\n",
        "    rules.sort_values(by='lift',ascending=False).to_csv(f'regras_{i}.csv')\n",
        "    print(\"DOW: \",i)\n",
        "    print(rules.lift.mean())\n"
      ]
    },
    {
      "cell_type": "code",
      "execution_count": 38,
      "metadata": {},
      "outputs": [
        {
          "name": "stdout",
          "output_type": "stream",
          "text": [
            "Department:  19\n",
            "nan\n",
            "Department:  13\n",
            "nan\n",
            "Department:  7\n",
            "2.854541738999599\n",
            "Department:  1\n",
            "3.9889776665383136\n",
            "Department:  11\n",
            "nan\n",
            "Department:  16\n",
            "nan\n",
            "Department:  17\n",
            "nan\n",
            "Department:  18\n",
            "1.2328925766907228\n",
            "Department:  12\n",
            "nan\n",
            "Department:  9\n",
            "nan\n",
            "Department:  14\n",
            "nan\n",
            "Department:  15\n",
            "nan\n",
            "Department:  4\n",
            "1.5238056166753247\n",
            "Department:  21\n",
            "nan\n",
            "Department:  6\n",
            "nan\n",
            "Department:  20\n",
            "nan\n",
            "Department:  5\n",
            "nan\n",
            "Department:  3\n",
            "nan\n",
            "Department:  10\n",
            "nan\n"
          ]
        }
      ],
      "source": [
        "filtro_orderId=list(df.order_id.value_counts()[df.order_id.value_counts()>1].index)\n",
        "filtro_produtos=list(df.product_id.value_counts()[df.product_id.value_counts()>200].index)\n",
        "# data=df.merge(prod,left_on=\"product_id\",right_on=\"product_id\")\n",
        "# data=data.merge(orders,left_on=\"order_id\",right_on=\"order_id\")\n",
        "\n",
        "\n",
        "for i in prod.department_id.unique():\n",
        "    data=df.merge(prod,left_on=\"product_id\",right_on=\"product_id\")\n",
        "    data=data.merge(orders,left_on=\"order_id\",right_on=\"order_id\")\n",
        "    data=data[(data['order_id'].isin(filtro_orderId)) & (data.department_id==i)]\n",
        "    if(data.shape[0]>0):\n",
        "        data=data[data['product_id'].isin(filtro_produtos)]\n",
        "        data=data.loc[:,['order_id','product_name']]#[data.order_dow==i]\n",
        "        substituicao={'Organic ':'','Box of ':'','Bag of':'','Bananas':'Banana','Hass':''}\n",
        "        data['product_name']=data['product_name'].replace(substituicao,regex=True).str.strip()\n",
        "        basket= data[['order_id','product_name']].value_counts().unstack().reset_index().fillna(0).set_index('order_id')\n",
        "\n",
        "        basket_sets = basket.applymap(encode_units)\n",
        "\n",
        "        frequent_itemsets = apriori(basket_sets, min_support=0.01, use_colnames=True,low_memory=True)\n",
        "        frequent_itemsets.sort_values('support',ascending=False)\n",
        "        rules = association_rules(frequent_itemsets, metric=\"lift\", min_threshold=1)\n",
        "        rules.sort_values(by='lift',ascending=False).to_csv(f'regras_dep_{i}.csv')\n",
        "        print(\"Department: \",i)\n",
        "        print(rules.lift.mean())\n",
        "    \n"
      ]
    },
    {
      "cell_type": "markdown",
      "metadata": {
        "id": "o-6yOCc4vt3K"
      },
      "source": [
        "# Conclusão\n",
        "\n",
        "O algoritmo de regra de associação Apriori é um dos mais simples, de fácil implementação, e ainda assim fornece conhecimentos valiosos sobre os dados e comportamentos de compras em um e-commerce. Entretanto, para futuro aprimoramento do modelo, pode-se pensar em um modelo para sistema de recomendação baseado em conteúdo por cliente, colaborativo ou até mesmo o híbrido.\n"
      ]
    },
    {
      "cell_type": "markdown",
      "metadata": {},
      "source": [
        "# Referência\n",
        "\n",
        "https://medium.com/@marinhoruan71/regras-de-associa%C3%A7%C3%A3o-em-um-e-commerce-de-mercado-6def22a63b27\n"
      ]
    }
  ],
  "metadata": {
    "colab": {
      "name": "Market_Basket.ipynb",
      "provenance": []
    },
    "kernelspec": {
      "display_name": "Python 3.10.5 64-bit",
      "language": "python",
      "name": "python3"
    },
    "language_info": {
      "codemirror_mode": {
        "name": "ipython",
        "version": 3
      },
      "file_extension": ".py",
      "mimetype": "text/x-python",
      "name": "python",
      "nbconvert_exporter": "python",
      "pygments_lexer": "ipython3",
      "version": "3.10.5"
    },
    "vscode": {
      "interpreter": {
        "hash": "2996cbe8fdb9ef8222cd784ade5217465c60e36105562ea4d5dfe1cfce5fc853"
      }
    }
  },
  "nbformat": 4,
  "nbformat_minor": 0
}
