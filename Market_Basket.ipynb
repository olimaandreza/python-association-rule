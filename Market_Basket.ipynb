{
  "cells": [
    {
      "cell_type": "markdown",
      "metadata": {},
      "source": [
        "# Descrição\n",
        "\n",
        "Aplicação de Regras de Associação para o banco de dados [InstaCart](https://www.kaggle.com/competitions/instacart-market-basket-analysis/data?select=order_products__train.csv.zip)."
      ]
    },
    {
      "cell_type": "markdown",
      "metadata": {},
      "source": [
        "# Importando Bibliotecas"
      ]
    },
    {
      "cell_type": "code",
      "execution_count": 350,
      "metadata": {
        "id": "sbXqLeU2a6bw"
      },
      "outputs": [],
      "source": [
        "import pandas as pd\n",
        "import numpy as np\n",
        "from mlxtend.frequent_patterns import association_rules\n",
        "from mlxtend.frequent_patterns import apriori"
      ]
    },
    {
      "cell_type": "markdown",
      "metadata": {},
      "source": [
        "# Leitura das Bases de Dados"
      ]
    },
    {
      "cell_type": "code",
      "execution_count": 353,
      "metadata": {
        "id": "-_hTgfBVd3t5"
      },
      "outputs": [],
      "source": [
        "# Base com as transações\n",
        "df=pd.read_csv(r\"C:\\Users\\olima\\Documents\\Python\\Market-basket\\order_products__train.csv\")\n",
        "\n",
        "#Base com os nomes dos produtos\n",
        "prod=pd.read_csv(r\"C:\\Users\\olima\\Documents\\Python\\Market-basket\\products.csv\")"
      ]
    },
    {
      "cell_type": "markdown",
      "metadata": {},
      "source": [
        "# Exploração das Bases de Dados"
      ]
    },
    {
      "cell_type": "code",
      "execution_count": 351,
      "metadata": {
        "colab": {
          "base_uri": "https://localhost:8080/",
          "height": 426
        },
        "id": "-kMiN4t6gIkX",
        "outputId": "c4408011-fb42-4e31-84a6-71b72885cb7e"
      },
      "outputs": [
        {
          "data": {
            "text/html": [
              "<div>\n",
              "<style scoped>\n",
              "    .dataframe tbody tr th:only-of-type {\n",
              "        vertical-align: middle;\n",
              "    }\n",
              "\n",
              "    .dataframe tbody tr th {\n",
              "        vertical-align: top;\n",
              "    }\n",
              "\n",
              "    .dataframe thead th {\n",
              "        text-align: right;\n",
              "    }\n",
              "</style>\n",
              "<table border=\"1\" class=\"dataframe\">\n",
              "  <thead>\n",
              "    <tr style=\"text-align: right;\">\n",
              "      <th></th>\n",
              "      <th>order_id</th>\n",
              "      <th>product_id</th>\n",
              "      <th>add_to_cart_order</th>\n",
              "      <th>reordered</th>\n",
              "    </tr>\n",
              "  </thead>\n",
              "  <tbody>\n",
              "    <tr>\n",
              "      <th>2</th>\n",
              "      <td>1</td>\n",
              "      <td>10246</td>\n",
              "      <td>3</td>\n",
              "      <td>0</td>\n",
              "    </tr>\n",
              "    <tr>\n",
              "      <th>3</th>\n",
              "      <td>1</td>\n",
              "      <td>49683</td>\n",
              "      <td>4</td>\n",
              "      <td>0</td>\n",
              "    </tr>\n",
              "    <tr>\n",
              "      <th>5</th>\n",
              "      <td>1</td>\n",
              "      <td>13176</td>\n",
              "      <td>6</td>\n",
              "      <td>0</td>\n",
              "    </tr>\n",
              "    <tr>\n",
              "      <th>6</th>\n",
              "      <td>1</td>\n",
              "      <td>47209</td>\n",
              "      <td>7</td>\n",
              "      <td>0</td>\n",
              "    </tr>\n",
              "    <tr>\n",
              "      <th>7</th>\n",
              "      <td>1</td>\n",
              "      <td>22035</td>\n",
              "      <td>8</td>\n",
              "      <td>1</td>\n",
              "    </tr>\n",
              "  </tbody>\n",
              "</table>\n",
              "</div>"
            ],
            "text/plain": [
              "   order_id  product_id  add_to_cart_order  reordered\n",
              "2         1       10246                  3          0\n",
              "3         1       49683                  4          0\n",
              "5         1       13176                  6          0\n",
              "6         1       47209                  7          0\n",
              "7         1       22035                  8          1"
            ]
          },
          "execution_count": 351,
          "metadata": {},
          "output_type": "execute_result"
        }
      ],
      "source": [
        "df.head()"
      ]
    },
    {
      "cell_type": "code",
      "execution_count": 354,
      "metadata": {
        "colab": {
          "base_uri": "https://localhost:8080/"
        },
        "id": "z_lWYpgigkPd",
        "outputId": "8e19c7e7-e2c4-43d9-ce73-bd4cbdefe336"
      },
      "outputs": [
        {
          "name": "stdout",
          "output_type": "stream",
          "text": [
            "<class 'pandas.core.frame.DataFrame'>\n",
            "RangeIndex: 1384617 entries, 0 to 1384616\n",
            "Data columns (total 4 columns):\n",
            " #   Column             Non-Null Count    Dtype\n",
            "---  ------             --------------    -----\n",
            " 0   order_id           1384617 non-null  int64\n",
            " 1   product_id         1384617 non-null  int64\n",
            " 2   add_to_cart_order  1384617 non-null  int64\n",
            " 3   reordered          1384617 non-null  int64\n",
            "dtypes: int64(4)\n",
            "memory usage: 42.3 MB\n"
          ]
        }
      ],
      "source": [
        "df.info()\n"
      ]
    },
    {
      "cell_type": "markdown",
      "metadata": {},
      "source": [
        "## Verificando missings"
      ]
    },
    {
      "cell_type": "code",
      "execution_count": 355,
      "metadata": {
        "colab": {
          "base_uri": "https://localhost:8080/"
        },
        "id": "zO3uXAfIsJtC",
        "outputId": "f341733b-74be-4a45-825e-df6b7f5a8d91"
      },
      "outputs": [
        {
          "data": {
            "text/plain": [
              "0"
            ]
          },
          "execution_count": 355,
          "metadata": {},
          "output_type": "execute_result"
        }
      ],
      "source": [
        "df.order_id.isna().sum()"
      ]
    },
    {
      "cell_type": "code",
      "execution_count": 356,
      "metadata": {
        "colab": {
          "base_uri": "https://localhost:8080/"
        },
        "id": "N8ZIflC5sUqT",
        "outputId": "c83bf44b-61cc-46ab-b814-bf8870cedb5e"
      },
      "outputs": [
        {
          "data": {
            "text/plain": [
              "0"
            ]
          },
          "execution_count": 356,
          "metadata": {},
          "output_type": "execute_result"
        }
      ],
      "source": [
        "df.product_id.isna().sum()"
      ]
    },
    {
      "cell_type": "markdown",
      "metadata": {},
      "source": [
        "## Verificando a quantidade de Ids únicos"
      ]
    },
    {
      "cell_type": "code",
      "execution_count": 357,
      "metadata": {},
      "outputs": [
        {
          "data": {
            "text/plain": [
              "131209"
            ]
          },
          "execution_count": 357,
          "metadata": {},
          "output_type": "execute_result"
        }
      ],
      "source": [
        "df.order_id.nunique()"
      ]
    },
    {
      "cell_type": "code",
      "execution_count": 358,
      "metadata": {
        "colab": {
          "base_uri": "https://localhost:8080/"
        },
        "id": "AgciiYGOwdwo",
        "outputId": "f6fad9a4-d3d4-442a-c021-82c0f6afed84"
      },
      "outputs": [
        {
          "data": {
            "text/plain": [
              "39123"
            ]
          },
          "execution_count": 358,
          "metadata": {},
          "output_type": "execute_result"
        }
      ],
      "source": [
        "df.product_id.nunique()"
      ]
    },
    {
      "cell_type": "code",
      "execution_count": 359,
      "metadata": {},
      "outputs": [
        {
          "data": {
            "text/plain": [
              "1395075    80\n",
              "2813632    80\n",
              "949182     77\n",
              "2869702    76\n",
              "341238     76\n",
              "           ..\n",
              "1144944     1\n",
              "1144765     1\n",
              "1144608     1\n",
              "1144038     1\n",
              "3214874     1\n",
              "Name: order_id, Length: 131209, dtype: int64"
            ]
          },
          "execution_count": 359,
          "metadata": {},
          "output_type": "execute_result"
        }
      ],
      "source": [
        "df.order_id.value_counts()"
      ]
    },
    {
      "cell_type": "code",
      "execution_count": 360,
      "metadata": {
        "colab": {
          "base_uri": "https://localhost:8080/"
        },
        "id": "a_ZsEd1xwyhK",
        "outputId": "78d6cfc4-3436-48ab-d2eb-041128ee848e"
      },
      "outputs": [
        {
          "data": {
            "text/plain": [
              "24852    18726\n",
              "13176    15480\n",
              "21137    10894\n",
              "21903     9784\n",
              "47626     8135\n",
              "         ...  \n",
              "42744        1\n",
              "5871         1\n",
              "47237        1\n",
              "9305         1\n",
              "38900        1\n",
              "Name: product_id, Length: 39123, dtype: int64"
            ]
          },
          "execution_count": 360,
          "metadata": {},
          "output_type": "execute_result"
        }
      ],
      "source": [
        "df.product_id.value_counts()"
      ]
    },
    {
      "cell_type": "markdown",
      "metadata": {},
      "source": [
        "# Transformação das Bases de Dados"
      ]
    },
    {
      "cell_type": "markdown",
      "metadata": {},
      "source": [
        "## Filtros"
      ]
    },
    {
      "cell_type": "code",
      "execution_count": 399,
      "metadata": {},
      "outputs": [
        {
          "name": "stdout",
          "output_type": "stream",
          "text": [
            "<class 'pandas.core.frame.DataFrame'>\n",
            "Int64Index: 749601 entries, 2 to 1384616\n",
            "Data columns (total 4 columns):\n",
            " #   Column             Non-Null Count   Dtype\n",
            "---  ------             --------------   -----\n",
            " 0   order_id           749601 non-null  int64\n",
            " 1   product_id         749601 non-null  int64\n",
            " 2   add_to_cart_order  749601 non-null  int64\n",
            " 3   reordered          749601 non-null  int64\n",
            "dtypes: int64(4)\n",
            "memory usage: 28.6 MB\n"
          ]
        }
      ],
      "source": [
        "# Filtrando transações com apenas um produto e produtos que apareceram poucas vezes (valor arbitrário)\n",
        "# Filtro para produtos aplicado porque o algoritmo não rodou com todos, não sei como melhorar\n",
        "filtro_orderId=list(df.order_id.value_counts()[df.order_id.value_counts()>1].index)\n",
        "filtro_produtos=list(df.product_id.value_counts()[df.product_id.value_counts()>200].index)\n",
        "\n",
        "df=df[df['order_id'].isin(filtro_orderId)]\n",
        "df=df[df['product_id'].isin(filtro_produtos)]\n",
        "df.info()"
      ]
    },
    {
      "cell_type": "code",
      "execution_count": 183,
      "metadata": {},
      "outputs": [
        {
          "data": {
            "text/plain": [
              "124361"
            ]
          },
          "execution_count": 183,
          "metadata": {},
          "output_type": "execute_result"
        }
      ],
      "source": [
        "df.order_id.nunique()"
      ]
    },
    {
      "cell_type": "code",
      "execution_count": 400,
      "metadata": {},
      "outputs": [
        {
          "data": {
            "text/plain": [
              "1138"
            ]
          },
          "execution_count": 400,
          "metadata": {},
          "output_type": "execute_result"
        }
      ],
      "source": [
        "df.product_id.nunique()"
      ]
    },
    {
      "cell_type": "markdown",
      "metadata": {},
      "source": [
        "## Join com a base de nome dos produtos"
      ]
    },
    {
      "cell_type": "code",
      "execution_count": 21,
      "metadata": {},
      "outputs": [
        {
          "data": {
            "text/html": [
              "<div>\n",
              "<style scoped>\n",
              "    .dataframe tbody tr th:only-of-type {\n",
              "        vertical-align: middle;\n",
              "    }\n",
              "\n",
              "    .dataframe tbody tr th {\n",
              "        vertical-align: top;\n",
              "    }\n",
              "\n",
              "    .dataframe thead th {\n",
              "        text-align: right;\n",
              "    }\n",
              "</style>\n",
              "<table border=\"1\" class=\"dataframe\">\n",
              "  <thead>\n",
              "    <tr style=\"text-align: right;\">\n",
              "      <th></th>\n",
              "      <th>product_id</th>\n",
              "      <th>product_name</th>\n",
              "      <th>aisle_id</th>\n",
              "      <th>department_id</th>\n",
              "    </tr>\n",
              "  </thead>\n",
              "  <tbody>\n",
              "    <tr>\n",
              "      <th>0</th>\n",
              "      <td>1</td>\n",
              "      <td>Chocolate Sandwich Cookies</td>\n",
              "      <td>61</td>\n",
              "      <td>19</td>\n",
              "    </tr>\n",
              "    <tr>\n",
              "      <th>1</th>\n",
              "      <td>2</td>\n",
              "      <td>All-Seasons Salt</td>\n",
              "      <td>104</td>\n",
              "      <td>13</td>\n",
              "    </tr>\n",
              "    <tr>\n",
              "      <th>2</th>\n",
              "      <td>3</td>\n",
              "      <td>Robust Golden Unsweetened Oolong Tea</td>\n",
              "      <td>94</td>\n",
              "      <td>7</td>\n",
              "    </tr>\n",
              "    <tr>\n",
              "      <th>3</th>\n",
              "      <td>4</td>\n",
              "      <td>Smart Ones Classic Favorites Mini Rigatoni Wit...</td>\n",
              "      <td>38</td>\n",
              "      <td>1</td>\n",
              "    </tr>\n",
              "    <tr>\n",
              "      <th>4</th>\n",
              "      <td>5</td>\n",
              "      <td>Green Chile Anytime Sauce</td>\n",
              "      <td>5</td>\n",
              "      <td>13</td>\n",
              "    </tr>\n",
              "  </tbody>\n",
              "</table>\n",
              "</div>"
            ],
            "text/plain": [
              "   product_id                                       product_name  aisle_id  \\\n",
              "0           1                         Chocolate Sandwich Cookies        61   \n",
              "1           2                                   All-Seasons Salt       104   \n",
              "2           3               Robust Golden Unsweetened Oolong Tea        94   \n",
              "3           4  Smart Ones Classic Favorites Mini Rigatoni Wit...        38   \n",
              "4           5                          Green Chile Anytime Sauce         5   \n",
              "\n",
              "   department_id  \n",
              "0             19  \n",
              "1             13  \n",
              "2              7  \n",
              "3              1  \n",
              "4             13  "
            ]
          },
          "execution_count": 21,
          "metadata": {},
          "output_type": "execute_result"
        }
      ],
      "source": [
        "prod.head()"
      ]
    },
    {
      "cell_type": "code",
      "execution_count": 401,
      "metadata": {},
      "outputs": [
        {
          "data": {
            "text/html": [
              "<div>\n",
              "<style scoped>\n",
              "    .dataframe tbody tr th:only-of-type {\n",
              "        vertical-align: middle;\n",
              "    }\n",
              "\n",
              "    .dataframe tbody tr th {\n",
              "        vertical-align: top;\n",
              "    }\n",
              "\n",
              "    .dataframe thead th {\n",
              "        text-align: right;\n",
              "    }\n",
              "</style>\n",
              "<table border=\"1\" class=\"dataframe\">\n",
              "  <thead>\n",
              "    <tr style=\"text-align: right;\">\n",
              "      <th></th>\n",
              "      <th>order_id</th>\n",
              "      <th>product_id</th>\n",
              "      <th>add_to_cart_order</th>\n",
              "      <th>reordered</th>\n",
              "      <th>product_name</th>\n",
              "      <th>aisle_id</th>\n",
              "      <th>department_id</th>\n",
              "    </tr>\n",
              "  </thead>\n",
              "  <tbody>\n",
              "    <tr>\n",
              "      <th>0</th>\n",
              "      <td>1</td>\n",
              "      <td>10246</td>\n",
              "      <td>3</td>\n",
              "      <td>0</td>\n",
              "      <td>Organic Celery Hearts</td>\n",
              "      <td>83</td>\n",
              "      <td>4</td>\n",
              "    </tr>\n",
              "    <tr>\n",
              "      <th>1</th>\n",
              "      <td>2869</td>\n",
              "      <td>10246</td>\n",
              "      <td>4</td>\n",
              "      <td>1</td>\n",
              "      <td>Organic Celery Hearts</td>\n",
              "      <td>83</td>\n",
              "      <td>4</td>\n",
              "    </tr>\n",
              "    <tr>\n",
              "      <th>2</th>\n",
              "      <td>3378</td>\n",
              "      <td>10246</td>\n",
              "      <td>19</td>\n",
              "      <td>0</td>\n",
              "      <td>Organic Celery Hearts</td>\n",
              "      <td>83</td>\n",
              "      <td>4</td>\n",
              "    </tr>\n",
              "    <tr>\n",
              "      <th>3</th>\n",
              "      <td>14119</td>\n",
              "      <td>10246</td>\n",
              "      <td>6</td>\n",
              "      <td>0</td>\n",
              "      <td>Organic Celery Hearts</td>\n",
              "      <td>83</td>\n",
              "      <td>4</td>\n",
              "    </tr>\n",
              "    <tr>\n",
              "      <th>4</th>\n",
              "      <td>17152</td>\n",
              "      <td>10246</td>\n",
              "      <td>22</td>\n",
              "      <td>1</td>\n",
              "      <td>Organic Celery Hearts</td>\n",
              "      <td>83</td>\n",
              "      <td>4</td>\n",
              "    </tr>\n",
              "  </tbody>\n",
              "</table>\n",
              "</div>"
            ],
            "text/plain": [
              "   order_id  product_id  add_to_cart_order  reordered           product_name  \\\n",
              "0         1       10246                  3          0  Organic Celery Hearts   \n",
              "1      2869       10246                  4          1  Organic Celery Hearts   \n",
              "2      3378       10246                 19          0  Organic Celery Hearts   \n",
              "3     14119       10246                  6          0  Organic Celery Hearts   \n",
              "4     17152       10246                 22          1  Organic Celery Hearts   \n",
              "\n",
              "   aisle_id  department_id  \n",
              "0        83              4  \n",
              "1        83              4  \n",
              "2        83              4  \n",
              "3        83              4  \n",
              "4        83              4  "
            ]
          },
          "execution_count": 401,
          "metadata": {},
          "output_type": "execute_result"
        }
      ],
      "source": [
        "data=df.merge(prod,left_on=\"product_id\",right_on=\"product_id\")\n",
        "data.head()"
      ]
    },
    {
      "cell_type": "code",
      "execution_count": 402,
      "metadata": {},
      "outputs": [],
      "source": [
        "# Mantendo apenas order_id e product_name\n",
        "data=data.iloc[:,[0,4]]"
      ]
    },
    {
      "cell_type": "code",
      "execution_count": 390,
      "metadata": {},
      "outputs": [
        {
          "name": "stdout",
          "output_type": "stream",
          "text": [
            "<class 'pandas.core.frame.DataFrame'>\n",
            "Int64Index: 1083575 entries, 0 to 1083574\n",
            "Data columns (total 2 columns):\n",
            " #   Column        Non-Null Count    Dtype \n",
            "---  ------        --------------    ----- \n",
            " 0   order_id      1083575 non-null  int64 \n",
            " 1   product_name  1083575 non-null  object\n",
            "dtypes: int64(1), object(1)\n",
            "memory usage: 24.8+ MB\n"
          ]
        }
      ],
      "source": [
        "data.info()"
      ]
    },
    {
      "cell_type": "code",
      "execution_count": 403,
      "metadata": {},
      "outputs": [
        {
          "data": {
            "text/html": [
              "<div>\n",
              "<style scoped>\n",
              "    .dataframe tbody tr th:only-of-type {\n",
              "        vertical-align: middle;\n",
              "    }\n",
              "\n",
              "    .dataframe tbody tr th {\n",
              "        vertical-align: top;\n",
              "    }\n",
              "\n",
              "    .dataframe thead th {\n",
              "        text-align: right;\n",
              "    }\n",
              "</style>\n",
              "<table border=\"1\" class=\"dataframe\">\n",
              "  <thead>\n",
              "    <tr style=\"text-align: right;\">\n",
              "      <th></th>\n",
              "      <th>order_id</th>\n",
              "      <th>product_name</th>\n",
              "    </tr>\n",
              "  </thead>\n",
              "  <tbody>\n",
              "    <tr>\n",
              "      <th>0</th>\n",
              "      <td>1</td>\n",
              "      <td>Celery Hearts</td>\n",
              "    </tr>\n",
              "    <tr>\n",
              "      <th>1</th>\n",
              "      <td>2869</td>\n",
              "      <td>Celery Hearts</td>\n",
              "    </tr>\n",
              "    <tr>\n",
              "      <th>2</th>\n",
              "      <td>3378</td>\n",
              "      <td>Celery Hearts</td>\n",
              "    </tr>\n",
              "    <tr>\n",
              "      <th>3</th>\n",
              "      <td>14119</td>\n",
              "      <td>Celery Hearts</td>\n",
              "    </tr>\n",
              "    <tr>\n",
              "      <th>4</th>\n",
              "      <td>17152</td>\n",
              "      <td>Celery Hearts</td>\n",
              "    </tr>\n",
              "  </tbody>\n",
              "</table>\n",
              "</div>"
            ],
            "text/plain": [
              "   order_id   product_name\n",
              "0         1  Celery Hearts\n",
              "1      2869  Celery Hearts\n",
              "2      3378  Celery Hearts\n",
              "3     14119  Celery Hearts\n",
              "4     17152  Celery Hearts"
            ]
          },
          "execution_count": 403,
          "metadata": {},
          "output_type": "execute_result"
        }
      ],
      "source": [
        "# Ao rodas as regras, verifiquei que algumas expressões estavam atrapalhando, corrigi na mão\n",
        "# Talvez isso mereça maior atenção para o desempenho do modelo\n",
        "substituicao={'Organic ':'','Box of ':'','Bag of':'','Bananas':'Banana','Hass':''}\n",
        "data['product_name']=data['product_name'].replace(substituicao,regex=True).str.strip()\n",
        "data.head()"
      ]
    },
    {
      "cell_type": "code",
      "execution_count": 344,
      "metadata": {},
      "outputs": [
        {
          "name": "stdout",
          "output_type": "stream",
          "text": [
            "<class 'pandas.core.frame.DataFrame'>\n",
            "Int64Index: 503894 entries, 0 to 503893\n",
            "Data columns (total 2 columns):\n",
            " #   Column        Non-Null Count   Dtype \n",
            "---  ------        --------------   ----- \n",
            " 0   order_id      503894 non-null  int64 \n",
            " 1   product_name  503894 non-null  object\n",
            "dtypes: int64(1), object(1)\n",
            "memory usage: 11.5+ MB\n"
          ]
        }
      ],
      "source": [
        "data.info()"
      ]
    },
    {
      "cell_type": "markdown",
      "metadata": {},
      "source": [
        "## One hot encoding"
      ]
    },
    {
      "cell_type": "code",
      "execution_count": 404,
      "metadata": {},
      "outputs": [
        {
          "data": {
            "text/html": [
              "<div>\n",
              "<style scoped>\n",
              "    .dataframe tbody tr th:only-of-type {\n",
              "        vertical-align: middle;\n",
              "    }\n",
              "\n",
              "    .dataframe tbody tr th {\n",
              "        vertical-align: top;\n",
              "    }\n",
              "\n",
              "    .dataframe thead th {\n",
              "        text-align: right;\n",
              "    }\n",
              "</style>\n",
              "<table border=\"1\" class=\"dataframe\">\n",
              "  <thead>\n",
              "    <tr style=\"text-align: right;\">\n",
              "      <th>product_name</th>\n",
              "      <th>&amp; Raw Strawberry Serenity Kombucha</th>\n",
              "      <th>0% Greek Strained Yogurt</th>\n",
              "      <th>1% Low Fat Milk</th>\n",
              "      <th>1% Lowfat Milk</th>\n",
              "      <th>100 Calorie  Per Bag Popcorn</th>\n",
              "      <th>100% Apple Juice</th>\n",
              "      <th>100% Grated Parmesan Cheese</th>\n",
              "      <th>100% Lactose Free Fat Free Milk</th>\n",
              "      <th>100% Natural Spring Water</th>\n",
              "      <th>100% Pure Apple Juice</th>\n",
              "      <th>...</th>\n",
              "      <th>Yogurt, Lowfat, Strawberry</th>\n",
              "      <th>Yogurt, Strained Low-Fat, Coconut</th>\n",
              "      <th>Yokids Lemonade/Blueberry Variety Pack Yogurt Squeezers Tubes</th>\n",
              "      <th>Yukon Gold Potatoes 5lb Bag</th>\n",
              "      <th>ZBar Chocolate Brownie Energy Snack</th>\n",
              "      <th>Zero Calorie Cola</th>\n",
              "      <th>Zucchini</th>\n",
              "      <th>Zucchini Spirals</th>\n",
              "      <th>Zucchini Squash</th>\n",
              "      <th>smartwater® Electrolyte Enhanced Water</th>\n",
              "    </tr>\n",
              "    <tr>\n",
              "      <th>order_id</th>\n",
              "      <th></th>\n",
              "      <th></th>\n",
              "      <th></th>\n",
              "      <th></th>\n",
              "      <th></th>\n",
              "      <th></th>\n",
              "      <th></th>\n",
              "      <th></th>\n",
              "      <th></th>\n",
              "      <th></th>\n",
              "      <th></th>\n",
              "      <th></th>\n",
              "      <th></th>\n",
              "      <th></th>\n",
              "      <th></th>\n",
              "      <th></th>\n",
              "      <th></th>\n",
              "      <th></th>\n",
              "      <th></th>\n",
              "      <th></th>\n",
              "      <th></th>\n",
              "    </tr>\n",
              "  </thead>\n",
              "  <tbody>\n",
              "    <tr>\n",
              "      <th>1</th>\n",
              "      <td>0.0</td>\n",
              "      <td>0.0</td>\n",
              "      <td>0.0</td>\n",
              "      <td>0.0</td>\n",
              "      <td>0.0</td>\n",
              "      <td>0.0</td>\n",
              "      <td>0.0</td>\n",
              "      <td>0.0</td>\n",
              "      <td>0.0</td>\n",
              "      <td>0.0</td>\n",
              "      <td>...</td>\n",
              "      <td>0.0</td>\n",
              "      <td>0.0</td>\n",
              "      <td>0.0</td>\n",
              "      <td>0.0</td>\n",
              "      <td>0.0</td>\n",
              "      <td>0.0</td>\n",
              "      <td>0.0</td>\n",
              "      <td>0.0</td>\n",
              "      <td>0.0</td>\n",
              "      <td>0.0</td>\n",
              "    </tr>\n",
              "    <tr>\n",
              "      <th>36</th>\n",
              "      <td>0.0</td>\n",
              "      <td>0.0</td>\n",
              "      <td>0.0</td>\n",
              "      <td>0.0</td>\n",
              "      <td>0.0</td>\n",
              "      <td>0.0</td>\n",
              "      <td>0.0</td>\n",
              "      <td>0.0</td>\n",
              "      <td>0.0</td>\n",
              "      <td>0.0</td>\n",
              "      <td>...</td>\n",
              "      <td>0.0</td>\n",
              "      <td>0.0</td>\n",
              "      <td>0.0</td>\n",
              "      <td>0.0</td>\n",
              "      <td>0.0</td>\n",
              "      <td>0.0</td>\n",
              "      <td>0.0</td>\n",
              "      <td>0.0</td>\n",
              "      <td>0.0</td>\n",
              "      <td>0.0</td>\n",
              "    </tr>\n",
              "    <tr>\n",
              "      <th>38</th>\n",
              "      <td>0.0</td>\n",
              "      <td>0.0</td>\n",
              "      <td>0.0</td>\n",
              "      <td>0.0</td>\n",
              "      <td>0.0</td>\n",
              "      <td>0.0</td>\n",
              "      <td>0.0</td>\n",
              "      <td>0.0</td>\n",
              "      <td>0.0</td>\n",
              "      <td>0.0</td>\n",
              "      <td>...</td>\n",
              "      <td>0.0</td>\n",
              "      <td>0.0</td>\n",
              "      <td>0.0</td>\n",
              "      <td>0.0</td>\n",
              "      <td>0.0</td>\n",
              "      <td>0.0</td>\n",
              "      <td>0.0</td>\n",
              "      <td>0.0</td>\n",
              "      <td>0.0</td>\n",
              "      <td>0.0</td>\n",
              "    </tr>\n",
              "    <tr>\n",
              "      <th>96</th>\n",
              "      <td>0.0</td>\n",
              "      <td>0.0</td>\n",
              "      <td>0.0</td>\n",
              "      <td>0.0</td>\n",
              "      <td>0.0</td>\n",
              "      <td>0.0</td>\n",
              "      <td>0.0</td>\n",
              "      <td>0.0</td>\n",
              "      <td>0.0</td>\n",
              "      <td>0.0</td>\n",
              "      <td>...</td>\n",
              "      <td>0.0</td>\n",
              "      <td>0.0</td>\n",
              "      <td>0.0</td>\n",
              "      <td>0.0</td>\n",
              "      <td>0.0</td>\n",
              "      <td>0.0</td>\n",
              "      <td>0.0</td>\n",
              "      <td>0.0</td>\n",
              "      <td>0.0</td>\n",
              "      <td>0.0</td>\n",
              "    </tr>\n",
              "    <tr>\n",
              "      <th>98</th>\n",
              "      <td>0.0</td>\n",
              "      <td>0.0</td>\n",
              "      <td>0.0</td>\n",
              "      <td>0.0</td>\n",
              "      <td>0.0</td>\n",
              "      <td>0.0</td>\n",
              "      <td>0.0</td>\n",
              "      <td>0.0</td>\n",
              "      <td>0.0</td>\n",
              "      <td>0.0</td>\n",
              "      <td>...</td>\n",
              "      <td>0.0</td>\n",
              "      <td>0.0</td>\n",
              "      <td>0.0</td>\n",
              "      <td>0.0</td>\n",
              "      <td>0.0</td>\n",
              "      <td>0.0</td>\n",
              "      <td>1.0</td>\n",
              "      <td>0.0</td>\n",
              "      <td>0.0</td>\n",
              "      <td>0.0</td>\n",
              "    </tr>\n",
              "  </tbody>\n",
              "</table>\n",
              "<p>5 rows × 1046 columns</p>\n",
              "</div>"
            ],
            "text/plain": [
              "product_name  & Raw Strawberry Serenity Kombucha  0% Greek Strained Yogurt  \\\n",
              "order_id                                                                     \n",
              "1                                            0.0                       0.0   \n",
              "36                                           0.0                       0.0   \n",
              "38                                           0.0                       0.0   \n",
              "96                                           0.0                       0.0   \n",
              "98                                           0.0                       0.0   \n",
              "\n",
              "product_name  1% Low Fat Milk  1% Lowfat Milk  100 Calorie  Per Bag Popcorn  \\\n",
              "order_id                                                                      \n",
              "1                         0.0             0.0                           0.0   \n",
              "36                        0.0             0.0                           0.0   \n",
              "38                        0.0             0.0                           0.0   \n",
              "96                        0.0             0.0                           0.0   \n",
              "98                        0.0             0.0                           0.0   \n",
              "\n",
              "product_name  100% Apple Juice  100% Grated Parmesan Cheese  \\\n",
              "order_id                                                      \n",
              "1                          0.0                          0.0   \n",
              "36                         0.0                          0.0   \n",
              "38                         0.0                          0.0   \n",
              "96                         0.0                          0.0   \n",
              "98                         0.0                          0.0   \n",
              "\n",
              "product_name  100% Lactose Free Fat Free Milk  100% Natural Spring Water  \\\n",
              "order_id                                                                   \n",
              "1                                         0.0                        0.0   \n",
              "36                                        0.0                        0.0   \n",
              "38                                        0.0                        0.0   \n",
              "96                                        0.0                        0.0   \n",
              "98                                        0.0                        0.0   \n",
              "\n",
              "product_name  100% Pure Apple Juice  ...  Yogurt, Lowfat, Strawberry  \\\n",
              "order_id                             ...                               \n",
              "1                               0.0  ...                         0.0   \n",
              "36                              0.0  ...                         0.0   \n",
              "38                              0.0  ...                         0.0   \n",
              "96                              0.0  ...                         0.0   \n",
              "98                              0.0  ...                         0.0   \n",
              "\n",
              "product_name  Yogurt, Strained Low-Fat, Coconut  \\\n",
              "order_id                                          \n",
              "1                                           0.0   \n",
              "36                                          0.0   \n",
              "38                                          0.0   \n",
              "96                                          0.0   \n",
              "98                                          0.0   \n",
              "\n",
              "product_name  Yokids Lemonade/Blueberry Variety Pack Yogurt Squeezers Tubes  \\\n",
              "order_id                                                                      \n",
              "1                                                           0.0               \n",
              "36                                                          0.0               \n",
              "38                                                          0.0               \n",
              "96                                                          0.0               \n",
              "98                                                          0.0               \n",
              "\n",
              "product_name  Yukon Gold Potatoes 5lb Bag  \\\n",
              "order_id                                    \n",
              "1                                     0.0   \n",
              "36                                    0.0   \n",
              "38                                    0.0   \n",
              "96                                    0.0   \n",
              "98                                    0.0   \n",
              "\n",
              "product_name  ZBar Chocolate Brownie Energy Snack  Zero Calorie Cola  \\\n",
              "order_id                                                               \n",
              "1                                             0.0                0.0   \n",
              "36                                            0.0                0.0   \n",
              "38                                            0.0                0.0   \n",
              "96                                            0.0                0.0   \n",
              "98                                            0.0                0.0   \n",
              "\n",
              "product_name  Zucchini  Zucchini Spirals  Zucchini Squash  \\\n",
              "order_id                                                    \n",
              "1                  0.0               0.0              0.0   \n",
              "36                 0.0               0.0              0.0   \n",
              "38                 0.0               0.0              0.0   \n",
              "96                 0.0               0.0              0.0   \n",
              "98                 1.0               0.0              0.0   \n",
              "\n",
              "product_name  smartwater® Electrolyte Enhanced Water  \n",
              "order_id                                              \n",
              "1                                                0.0  \n",
              "36                                               0.0  \n",
              "38                                               0.0  \n",
              "96                                               0.0  \n",
              "98                                               0.0  \n",
              "\n",
              "[5 rows x 1046 columns]"
            ]
          },
          "execution_count": 404,
          "metadata": {},
          "output_type": "execute_result"
        }
      ],
      "source": [
        "basket= data[['order_id','product_name']].value_counts().unstack().reset_index().fillna(0).set_index('order_id')\n",
        "basket.head()\n",
        "\n"
      ]
    },
    {
      "cell_type": "code",
      "execution_count": 405,
      "metadata": {},
      "outputs": [],
      "source": [
        "def encode_units(x):\n",
        "    if x <= 0:\n",
        "        return False\n",
        "    if x >= 1:\n",
        "        return True\n",
        "\n",
        "basket_sets = basket.applymap(encode_units)"
      ]
    },
    {
      "cell_type": "code",
      "execution_count": 326,
      "metadata": {},
      "outputs": [
        {
          "name": "stdout",
          "output_type": "stream",
          "text": [
            "<class 'pandas.core.frame.DataFrame'>\n",
            "Int64Index: 96792 entries, 1 to 3421070\n",
            "Columns: 326 entries,  Bananas to Zucchini\n",
            "dtypes: bool(326)\n",
            "memory usage: 30.8 MB\n"
          ]
        }
      ],
      "source": [
        "basket_sets.info()"
      ]
    },
    {
      "cell_type": "markdown",
      "metadata": {},
      "source": [
        "# Criação das Regras"
      ]
    },
    {
      "cell_type": "markdown",
      "metadata": {},
      "source": [
        "Now that the data is structured properly, we can generate frequent item sets that have a support of at least 1% (this number was chosen so that I could get enough useful examples). These values are mostly just arbitrarily chosen, so you can play with these values and see what difference it makes in the rules you get back out.\n",
        "\n",
        "Idea for choosing support: Let's suppose that we want rules for only those items that are purchased at least 5 times a day, or 7 x 5 = 35 times in one week, since our dataset is for a **one-week time period** (I don't know what is our time period). The support for those items can be calculated as 35/7500 = 0.0045"
      ]
    },
    {
      "cell_type": "code",
      "execution_count": 407,
      "metadata": {},
      "outputs": [
        {
          "data": {
            "text/html": [
              "<div>\n",
              "<style scoped>\n",
              "    .dataframe tbody tr th:only-of-type {\n",
              "        vertical-align: middle;\n",
              "    }\n",
              "\n",
              "    .dataframe tbody tr th {\n",
              "        vertical-align: top;\n",
              "    }\n",
              "\n",
              "    .dataframe thead th {\n",
              "        text-align: right;\n",
              "    }\n",
              "</style>\n",
              "<table border=\"1\" class=\"dataframe\">\n",
              "  <thead>\n",
              "    <tr style=\"text-align: right;\">\n",
              "      <th></th>\n",
              "      <th>support</th>\n",
              "      <th>itemsets</th>\n",
              "    </tr>\n",
              "  </thead>\n",
              "  <tbody>\n",
              "    <tr>\n",
              "      <th>12</th>\n",
              "      <td>0.323934</td>\n",
              "      <td>(Banana)</td>\n",
              "    </tr>\n",
              "    <tr>\n",
              "      <th>114</th>\n",
              "      <td>0.152652</td>\n",
              "      <td>(Strawberries)</td>\n",
              "    </tr>\n",
              "    <tr>\n",
              "      <th>6</th>\n",
              "      <td>0.147080</td>\n",
              "      <td>(Avocado)</td>\n",
              "    </tr>\n",
              "    <tr>\n",
              "      <th>11</th>\n",
              "      <td>0.096460</td>\n",
              "      <td>(Baby Spinach)</td>\n",
              "    </tr>\n",
              "    <tr>\n",
              "      <th>85</th>\n",
              "      <td>0.077563</td>\n",
              "      <td>(Raspberries)</td>\n",
              "    </tr>\n",
              "    <tr>\n",
              "      <th>...</th>\n",
              "      <td>...</td>\n",
              "      <td>...</td>\n",
              "    </tr>\n",
              "    <tr>\n",
              "      <th>46</th>\n",
              "      <td>0.010103</td>\n",
              "      <td>(Garbanzo Beans)</td>\n",
              "    </tr>\n",
              "    <tr>\n",
              "      <th>74</th>\n",
              "      <td>0.010049</td>\n",
              "      <td>(Lemonade)</td>\n",
              "    </tr>\n",
              "    <tr>\n",
              "      <th>137</th>\n",
              "      <td>0.010031</td>\n",
              "      <td>(Cilantro, Avocado)</td>\n",
              "    </tr>\n",
              "    <tr>\n",
              "      <th>25</th>\n",
              "      <td>0.010023</td>\n",
              "      <td>(Butternut Squash)</td>\n",
              "    </tr>\n",
              "    <tr>\n",
              "      <th>201</th>\n",
              "      <td>0.010005</td>\n",
              "      <td>(Garlic, Strawberries)</td>\n",
              "    </tr>\n",
              "  </tbody>\n",
              "</table>\n",
              "<p>215 rows × 2 columns</p>\n",
              "</div>"
            ],
            "text/plain": [
              "      support                itemsets\n",
              "12   0.323934                (Banana)\n",
              "114  0.152652          (Strawberries)\n",
              "6    0.147080               (Avocado)\n",
              "11   0.096460          (Baby Spinach)\n",
              "85   0.077563           (Raspberries)\n",
              "..        ...                     ...\n",
              "46   0.010103        (Garbanzo Beans)\n",
              "74   0.010049              (Lemonade)\n",
              "137  0.010031     (Cilantro, Avocado)\n",
              "25   0.010023      (Butternut Squash)\n",
              "201  0.010005  (Garlic, Strawberries)\n",
              "\n",
              "[215 rows x 2 columns]"
            ]
          },
          "execution_count": 407,
          "metadata": {},
          "output_type": "execute_result"
        }
      ],
      "source": [
        "frequent_itemsets = apriori(basket_sets, min_support=0.01, use_colnames=True,low_memory=True)\n",
        "frequent_itemsets.sort_values('support',ascending=False)"
      ]
    },
    {
      "cell_type": "markdown",
      "metadata": {},
      "source": [
        "Support refers to the default popularity of an item and can be calculated by finding number of transactions containing a particular item divided by total number of transactions.\n",
        "\n",
        "Suporte máximo de 0,32\n",
        "\n",
        "Restringindo a produtos que apareceram 500 vezes, o suporte máximo foi de 0,36. Talvez restringir mais possa ajudar nas regras\n"
      ]
    },
    {
      "cell_type": "code",
      "execution_count": 409,
      "metadata": {},
      "outputs": [
        {
          "data": {
            "text/html": [
              "<div>\n",
              "<style scoped>\n",
              "    .dataframe tbody tr th:only-of-type {\n",
              "        vertical-align: middle;\n",
              "    }\n",
              "\n",
              "    .dataframe tbody tr th {\n",
              "        vertical-align: top;\n",
              "    }\n",
              "\n",
              "    .dataframe thead th {\n",
              "        text-align: right;\n",
              "    }\n",
              "</style>\n",
              "<table border=\"1\" class=\"dataframe\">\n",
              "  <thead>\n",
              "    <tr style=\"text-align: right;\">\n",
              "      <th></th>\n",
              "      <th>antecedents</th>\n",
              "      <th>consequents</th>\n",
              "      <th>antecedent support</th>\n",
              "      <th>consequent support</th>\n",
              "      <th>support</th>\n",
              "      <th>confidence</th>\n",
              "      <th>lift</th>\n",
              "      <th>leverage</th>\n",
              "      <th>conviction</th>\n",
              "    </tr>\n",
              "  </thead>\n",
              "  <tbody>\n",
              "    <tr>\n",
              "      <th>0</th>\n",
              "      <td>(Banana)</td>\n",
              "      <td>(2% Reduced Fat Milk)</td>\n",
              "      <td>0.323934</td>\n",
              "      <td>0.027540</td>\n",
              "      <td>0.010129</td>\n",
              "      <td>0.031270</td>\n",
              "      <td>1.135444</td>\n",
              "      <td>0.001208</td>\n",
              "      <td>1.003850</td>\n",
              "    </tr>\n",
              "    <tr>\n",
              "      <th>1</th>\n",
              "      <td>(2% Reduced Fat Milk)</td>\n",
              "      <td>(Banana)</td>\n",
              "      <td>0.027540</td>\n",
              "      <td>0.323934</td>\n",
              "      <td>0.010129</td>\n",
              "      <td>0.367809</td>\n",
              "      <td>1.135444</td>\n",
              "      <td>0.001208</td>\n",
              "      <td>1.069401</td>\n",
              "    </tr>\n",
              "    <tr>\n",
              "      <th>2</th>\n",
              "      <td>(Banana)</td>\n",
              "      <td>(Apple Honeycrisp Organic)</td>\n",
              "      <td>0.323934</td>\n",
              "      <td>0.019974</td>\n",
              "      <td>0.010557</td>\n",
              "      <td>0.032589</td>\n",
              "      <td>1.631569</td>\n",
              "      <td>0.004086</td>\n",
              "      <td>1.013040</td>\n",
              "    </tr>\n",
              "    <tr>\n",
              "      <th>3</th>\n",
              "      <td>(Apple Honeycrisp Organic)</td>\n",
              "      <td>(Banana)</td>\n",
              "      <td>0.019974</td>\n",
              "      <td>0.323934</td>\n",
              "      <td>0.010557</td>\n",
              "      <td>0.528520</td>\n",
              "      <td>1.631569</td>\n",
              "      <td>0.004086</td>\n",
              "      <td>1.433925</td>\n",
              "    </tr>\n",
              "    <tr>\n",
              "      <th>4</th>\n",
              "      <td>(Banana)</td>\n",
              "      <td>(Asparagus)</td>\n",
              "      <td>0.323934</td>\n",
              "      <td>0.034162</td>\n",
              "      <td>0.014660</td>\n",
              "      <td>0.045256</td>\n",
              "      <td>1.324745</td>\n",
              "      <td>0.003594</td>\n",
              "      <td>1.011620</td>\n",
              "    </tr>\n",
              "    <tr>\n",
              "      <th>...</th>\n",
              "      <td>...</td>\n",
              "      <td>...</td>\n",
              "      <td>...</td>\n",
              "      <td>...</td>\n",
              "      <td>...</td>\n",
              "      <td>...</td>\n",
              "      <td>...</td>\n",
              "      <td>...</td>\n",
              "      <td>...</td>\n",
              "    </tr>\n",
              "    <tr>\n",
              "      <th>191</th>\n",
              "      <td>(Banana, Strawberries)</td>\n",
              "      <td>(Raspberries)</td>\n",
              "      <td>0.075409</td>\n",
              "      <td>0.077563</td>\n",
              "      <td>0.015185</td>\n",
              "      <td>0.201369</td>\n",
              "      <td>2.596193</td>\n",
              "      <td>0.009336</td>\n",
              "      <td>1.155023</td>\n",
              "    </tr>\n",
              "    <tr>\n",
              "      <th>192</th>\n",
              "      <td>(Raspberries, Strawberries)</td>\n",
              "      <td>(Banana)</td>\n",
              "      <td>0.027896</td>\n",
              "      <td>0.323934</td>\n",
              "      <td>0.015185</td>\n",
              "      <td>0.544352</td>\n",
              "      <td>1.680443</td>\n",
              "      <td>0.006149</td>\n",
              "      <td>1.483747</td>\n",
              "    </tr>\n",
              "    <tr>\n",
              "      <th>193</th>\n",
              "      <td>(Banana)</td>\n",
              "      <td>(Raspberries, Strawberries)</td>\n",
              "      <td>0.323934</td>\n",
              "      <td>0.027896</td>\n",
              "      <td>0.015185</td>\n",
              "      <td>0.046877</td>\n",
              "      <td>1.680443</td>\n",
              "      <td>0.006149</td>\n",
              "      <td>1.019915</td>\n",
              "    </tr>\n",
              "    <tr>\n",
              "      <th>194</th>\n",
              "      <td>(Raspberries)</td>\n",
              "      <td>(Banana, Strawberries)</td>\n",
              "      <td>0.077563</td>\n",
              "      <td>0.075409</td>\n",
              "      <td>0.015185</td>\n",
              "      <td>0.195777</td>\n",
              "      <td>2.596193</td>\n",
              "      <td>0.009336</td>\n",
              "      <td>1.149670</td>\n",
              "    </tr>\n",
              "    <tr>\n",
              "      <th>195</th>\n",
              "      <td>(Strawberries)</td>\n",
              "      <td>(Banana, Raspberries)</td>\n",
              "      <td>0.152652</td>\n",
              "      <td>0.036975</td>\n",
              "      <td>0.015185</td>\n",
              "      <td>0.099475</td>\n",
              "      <td>2.690357</td>\n",
              "      <td>0.009541</td>\n",
              "      <td>1.069405</td>\n",
              "    </tr>\n",
              "  </tbody>\n",
              "</table>\n",
              "<p>196 rows × 9 columns</p>\n",
              "</div>"
            ],
            "text/plain": [
              "                     antecedents                  consequents  \\\n",
              "0                       (Banana)        (2% Reduced Fat Milk)   \n",
              "1          (2% Reduced Fat Milk)                     (Banana)   \n",
              "2                       (Banana)   (Apple Honeycrisp Organic)   \n",
              "3     (Apple Honeycrisp Organic)                     (Banana)   \n",
              "4                       (Banana)                  (Asparagus)   \n",
              "..                           ...                          ...   \n",
              "191       (Banana, Strawberries)                (Raspberries)   \n",
              "192  (Raspberries, Strawberries)                     (Banana)   \n",
              "193                     (Banana)  (Raspberries, Strawberries)   \n",
              "194                (Raspberries)       (Banana, Strawberries)   \n",
              "195               (Strawberries)        (Banana, Raspberries)   \n",
              "\n",
              "     antecedent support  consequent support   support  confidence      lift  \\\n",
              "0              0.323934            0.027540  0.010129    0.031270  1.135444   \n",
              "1              0.027540            0.323934  0.010129    0.367809  1.135444   \n",
              "2              0.323934            0.019974  0.010557    0.032589  1.631569   \n",
              "3              0.019974            0.323934  0.010557    0.528520  1.631569   \n",
              "4              0.323934            0.034162  0.014660    0.045256  1.324745   \n",
              "..                  ...                 ...       ...         ...       ...   \n",
              "191            0.075409            0.077563  0.015185    0.201369  2.596193   \n",
              "192            0.027896            0.323934  0.015185    0.544352  1.680443   \n",
              "193            0.323934            0.027896  0.015185    0.046877  1.680443   \n",
              "194            0.077563            0.075409  0.015185    0.195777  2.596193   \n",
              "195            0.152652            0.036975  0.015185    0.099475  2.690357   \n",
              "\n",
              "     leverage  conviction  \n",
              "0    0.001208    1.003850  \n",
              "1    0.001208    1.069401  \n",
              "2    0.004086    1.013040  \n",
              "3    0.004086    1.433925  \n",
              "4    0.003594    1.011620  \n",
              "..        ...         ...  \n",
              "191  0.009336    1.155023  \n",
              "192  0.006149    1.483747  \n",
              "193  0.006149    1.019915  \n",
              "194  0.009336    1.149670  \n",
              "195  0.009541    1.069405  \n",
              "\n",
              "[196 rows x 9 columns]"
            ]
          },
          "execution_count": 409,
          "metadata": {},
          "output_type": "execute_result"
        }
      ],
      "source": [
        "rules = association_rules(frequent_itemsets, metric=\"lift\", min_threshold=1)\n",
        "rules"
      ]
    },
    {
      "cell_type": "markdown",
      "metadata": {},
      "source": [
        "A galera parece bem \"fitness\" com esses filtros\n",
        "\n",
        "Confidence refers to the likelihood that an item B is also bought if item A is bought. It can be calculated by finding the number of transactions where A and B are bought together, divided by total number of transactions where A is bought. In the second rule, the confidence is 0,36, which means that 36% of times where fat milk was bought, banana is also bought.\n",
        "\n",
        "Lift(A -> B) refers to the increase in the ratio of sale of B when A is sold. Lift(A –> B) can be calculated by dividing Confidence(A -> B) divided by Support(B). a lift of 1.29 tells us that the likelihood of buying a A and B together is 1.29 times more than the likelihood of just buying the B. (30% chance)\n",
        "\n",
        "I don't know yet what conviction is."
      ]
    },
    {
      "cell_type": "markdown",
      "metadata": {
        "id": "o-6yOCc4vt3K"
      },
      "source": [
        "# Conclusion\n",
        "\n",
        "Association rule mining algorithms such as Apriori are very useful for finding simple associations between our data items. They are easy to implement and have high explain-ability. However for more advanced insights, such those used by Google or Amazon etc., more complex algorithms, such as recommender systems, are used. However, you can probably see that this method is a very simple way to get basic associations if that's all your use-case needs.\n",
        "\n",
        "we could try to use departments\n"
      ]
    },
    {
      "cell_type": "code",
      "execution_count": null,
      "metadata": {},
      "outputs": [],
      "source": []
    }
  ],
  "metadata": {
    "colab": {
      "name": "Market_Basket.ipynb",
      "provenance": []
    },
    "kernelspec": {
      "display_name": "Python 3.10.5 64-bit",
      "language": "python",
      "name": "python3"
    },
    "language_info": {
      "codemirror_mode": {
        "name": "ipython",
        "version": 3
      },
      "file_extension": ".py",
      "mimetype": "text/x-python",
      "name": "python",
      "nbconvert_exporter": "python",
      "pygments_lexer": "ipython3",
      "version": "3.10.5"
    },
    "vscode": {
      "interpreter": {
        "hash": "2996cbe8fdb9ef8222cd784ade5217465c60e36105562ea4d5dfe1cfce5fc853"
      }
    }
  },
  "nbformat": 4,
  "nbformat_minor": 0
}
